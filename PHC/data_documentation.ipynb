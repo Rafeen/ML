{
 "cells": [
  {
   "cell_type": "markdown",
   "metadata": {},
   "source": [
    "### Imports"
   ]
  },
  {
   "cell_type": "code",
   "execution_count": 1,
   "metadata": {},
   "outputs": [],
   "source": [
    "import os\n",
    "import numpy as np\n",
    "from sklearn import preprocessing, neighbors\n",
    "from sklearn.model_selection import train_test_split \n",
    "from sklearn import metrics\n",
    "import pandas as pd\n",
    "\n",
    "# plotting modules\n",
    "import seaborn as sns\n",
    "sns.set_theme(style=\"darkgrid\")\n",
    "import matplotlib.pyplot as plt"
   ]
  },
  {
   "cell_type": "markdown",
   "metadata": {},
   "source": [
    "### Load Data"
   ]
  },
  {
   "cell_type": "code",
   "execution_count": 2,
   "metadata": {},
   "outputs": [],
   "source": [
    "df = pd.read_csv('dataset/raw_data.csv')"
   ]
  },
  {
   "cell_type": "markdown",
   "metadata": {},
   "source": [
    "### Preview data and shape"
   ]
  },
  {
   "cell_type": "code",
   "execution_count": 3,
   "metadata": {},
   "outputs": [
    {
     "data": {
      "text/html": [
       "<div>\n",
       "<style scoped>\n",
       "    .dataframe tbody tr th:only-of-type {\n",
       "        vertical-align: middle;\n",
       "    }\n",
       "\n",
       "    .dataframe tbody tr th {\n",
       "        vertical-align: top;\n",
       "    }\n",
       "\n",
       "    .dataframe thead th {\n",
       "        text-align: right;\n",
       "    }\n",
       "</style>\n",
       "<table border=\"1\" class=\"dataframe\">\n",
       "  <thead>\n",
       "    <tr style=\"text-align: right;\">\n",
       "      <th></th>\n",
       "      <th>age</th>\n",
       "      <th>gender</th>\n",
       "      <th>education</th>\n",
       "      <th>marital_status</th>\n",
       "      <th>monthly_income</th>\n",
       "      <th>limit_diet</th>\n",
       "      <th>gain_10kg</th>\n",
       "      <th>gain_lose_3kg</th>\n",
       "      <th>eat_2h_sleep</th>\n",
       "      <th>soft_drink</th>\n",
       "      <th>...</th>\n",
       "      <th>spo2</th>\n",
       "      <th>bp_sys</th>\n",
       "      <th>bp_dia</th>\n",
       "      <th>blood_glucose</th>\n",
       "      <th>blood_hemoglobin</th>\n",
       "      <th>urinary_glucose</th>\n",
       "      <th>urinary_protein</th>\n",
       "      <th>pulse_rate</th>\n",
       "      <th>uric_acid</th>\n",
       "      <th>health_status</th>\n",
       "    </tr>\n",
       "  </thead>\n",
       "  <tbody>\n",
       "    <tr>\n",
       "      <th>0</th>\n",
       "      <td>59</td>\n",
       "      <td>Male</td>\n",
       "      <td>7. Higher (Master or Doctor) completed</td>\n",
       "      <td>2. Current married or living together</td>\n",
       "      <td>5. Taka 50,001 or more</td>\n",
       "      <td>No</td>\n",
       "      <td>1.  No</td>\n",
       "      <td>1. No</td>\n",
       "      <td>1. No</td>\n",
       "      <td>1. No</td>\n",
       "      <td>...</td>\n",
       "      <td>96</td>\n",
       "      <td>138</td>\n",
       "      <td>78</td>\n",
       "      <td>234 (PBS)</td>\n",
       "      <td>NaN</td>\n",
       "      <td>-</td>\n",
       "      <td>-</td>\n",
       "      <td>94</td>\n",
       "      <td>4.3</td>\n",
       "      <td>3</td>\n",
       "    </tr>\n",
       "    <tr>\n",
       "      <th>1</th>\n",
       "      <td>60</td>\n",
       "      <td>Male</td>\n",
       "      <td>7. Higher (Master or Doctor) completed</td>\n",
       "      <td>2. Current married or living together</td>\n",
       "      <td>5. Taka 50,001 or more</td>\n",
       "      <td>Yes</td>\n",
       "      <td>2. Yes</td>\n",
       "      <td>1. No</td>\n",
       "      <td>2. Yes</td>\n",
       "      <td>1. No</td>\n",
       "      <td>...</td>\n",
       "      <td>96</td>\n",
       "      <td>128</td>\n",
       "      <td>67</td>\n",
       "      <td>93.6 (PBS)</td>\n",
       "      <td>NaN</td>\n",
       "      <td>-</td>\n",
       "      <td>-</td>\n",
       "      <td>62</td>\n",
       "      <td>5.8</td>\n",
       "      <td>2</td>\n",
       "    </tr>\n",
       "    <tr>\n",
       "      <th>2</th>\n",
       "      <td>58</td>\n",
       "      <td>Male</td>\n",
       "      <td>7. Higher (Master or Doctor) completed</td>\n",
       "      <td>2. Current married or living together</td>\n",
       "      <td>5. Taka 50,001 or more</td>\n",
       "      <td>Yes</td>\n",
       "      <td>2. Yes</td>\n",
       "      <td>2. Yes</td>\n",
       "      <td>2. Yes</td>\n",
       "      <td>1. No</td>\n",
       "      <td>...</td>\n",
       "      <td>96</td>\n",
       "      <td>140</td>\n",
       "      <td>81</td>\n",
       "      <td>133.2 (PBS)</td>\n",
       "      <td>NaN</td>\n",
       "      <td>-</td>\n",
       "      <td>-</td>\n",
       "      <td>60</td>\n",
       "      <td>7.0</td>\n",
       "      <td>3</td>\n",
       "    </tr>\n",
       "    <tr>\n",
       "      <th>3</th>\n",
       "      <td>50</td>\n",
       "      <td>Female</td>\n",
       "      <td>7. Higher (Master or Doctor) completed</td>\n",
       "      <td>2. Current married or living together</td>\n",
       "      <td>5. Taka 50,001 or more</td>\n",
       "      <td>Yes</td>\n",
       "      <td>1.  No</td>\n",
       "      <td>1. No</td>\n",
       "      <td>2. Yes</td>\n",
       "      <td>2. Yes</td>\n",
       "      <td>...</td>\n",
       "      <td>99</td>\n",
       "      <td>102</td>\n",
       "      <td>65</td>\n",
       "      <td>75.6 (PBS)</td>\n",
       "      <td>10.9</td>\n",
       "      <td>-</td>\n",
       "      <td>-</td>\n",
       "      <td>82</td>\n",
       "      <td>3.6</td>\n",
       "      <td>2</td>\n",
       "    </tr>\n",
       "    <tr>\n",
       "      <th>4</th>\n",
       "      <td>56</td>\n",
       "      <td>Male</td>\n",
       "      <td>7. Higher (Master or Doctor) completed</td>\n",
       "      <td>2. Current married or living together</td>\n",
       "      <td>5. Taka 50,001 or more</td>\n",
       "      <td>Yes</td>\n",
       "      <td>1.  No</td>\n",
       "      <td>1. No</td>\n",
       "      <td>2. Yes</td>\n",
       "      <td>1. No</td>\n",
       "      <td>...</td>\n",
       "      <td>96</td>\n",
       "      <td>155</td>\n",
       "      <td>98</td>\n",
       "      <td>223.2 (PBS)</td>\n",
       "      <td>NaN</td>\n",
       "      <td>-</td>\n",
       "      <td>-</td>\n",
       "      <td>92</td>\n",
       "      <td>5.0</td>\n",
       "      <td>3</td>\n",
       "    </tr>\n",
       "  </tbody>\n",
       "</table>\n",
       "<p>5 rows × 33 columns</p>\n",
       "</div>"
      ],
      "text/plain": [
       "   age  gender                               education  \\\n",
       "0   59    Male  7. Higher (Master or Doctor) completed   \n",
       "1   60    Male  7. Higher (Master or Doctor) completed   \n",
       "2   58    Male  7. Higher (Master or Doctor) completed   \n",
       "3   50  Female  7. Higher (Master or Doctor) completed   \n",
       "4   56    Male  7. Higher (Master or Doctor) completed   \n",
       "\n",
       "                          marital_status          monthly_income limit_diet  \\\n",
       "0  2. Current married or living together  5. Taka 50,001 or more         No   \n",
       "1  2. Current married or living together  5. Taka 50,001 or more        Yes   \n",
       "2  2. Current married or living together  5. Taka 50,001 or more        Yes   \n",
       "3  2. Current married or living together  5. Taka 50,001 or more        Yes   \n",
       "4  2. Current married or living together  5. Taka 50,001 or more        Yes   \n",
       "\n",
       "  gain_10kg gain_lose_3kg eat_2h_sleep soft_drink  ... spo2 bp_sys bp_dia  \\\n",
       "0    1.  No         1. No        1. No      1. No  ...   96    138     78   \n",
       "1    2. Yes         1. No       2. Yes      1. No  ...   96    128     67   \n",
       "2    2. Yes        2. Yes       2. Yes      1. No  ...   96    140     81   \n",
       "3    1.  No         1. No       2. Yes     2. Yes  ...   99    102     65   \n",
       "4    1.  No         1. No       2. Yes      1. No  ...   96    155     98   \n",
       "\n",
       "  blood_glucose blood_hemoglobin urinary_glucose urinary_protein pulse_rate  \\\n",
       "0     234 (PBS)              NaN               -               -         94   \n",
       "1    93.6 (PBS)              NaN               -               -         62   \n",
       "2   133.2 (PBS)              NaN               -               -         60   \n",
       "3    75.6 (PBS)             10.9               -               -         82   \n",
       "4   223.2 (PBS)              NaN               -               -         92   \n",
       "\n",
       "   uric_acid  health_status  \n",
       "0        4.3              3  \n",
       "1        5.8              2  \n",
       "2        7.0              3  \n",
       "3        3.6              2  \n",
       "4        5.0              3  \n",
       "\n",
       "[5 rows x 33 columns]"
      ]
     },
     "execution_count": 3,
     "metadata": {},
     "output_type": "execute_result"
    }
   ],
   "source": [
    "df.head(5)"
   ]
  },
  {
   "cell_type": "code",
   "execution_count": 4,
   "metadata": {},
   "outputs": [
    {
     "data": {
      "text/plain": [
       "(50, 33)"
      ]
     },
     "execution_count": 4,
     "metadata": {},
     "output_type": "execute_result"
    }
   ],
   "source": [
    "df.shape"
   ]
  },
  {
   "cell_type": "markdown",
   "metadata": {},
   "source": [
    "### Get Percentage of missing data in each column"
   ]
  },
  {
   "cell_type": "code",
   "execution_count": 5,
   "metadata": {},
   "outputs": [
    {
     "data": {
      "text/plain": [
       "blood_hemoglobin     86.0\n",
       "health_status         0.0\n",
       "gain_lose_3kg         0.0\n",
       "walking_habit         0.0\n",
       "eat_faster            0.0\n",
       "skip_breakfast        0.0\n",
       "fast_food             0.0\n",
       "soft_drink            0.0\n",
       "eat_2h_sleep          0.0\n",
       "gain_10kg             0.0\n",
       "walk_faster           0.0\n",
       "limit_diet            0.0\n",
       "monthly_income        0.0\n",
       "marital_status        0.0\n",
       "education             0.0\n",
       "gender                0.0\n",
       "physical_activity     0.0\n",
       "sleep_habit           0.0\n",
       "uric_acid             0.0\n",
       "stop_activity         0.0\n",
       "height                0.0\n",
       "weight                0.0\n",
       "waist                 0.0\n",
       "hip                   0.0\n",
       "body_temperature      0.0\n",
       "spo2                  0.0\n",
       "bp_sys                0.0\n",
       "bp_dia                0.0\n",
       "blood_glucose         0.0\n",
       "urinary_glucose       0.0\n",
       "urinary_protein       0.0\n",
       "pulse_rate            0.0\n",
       "age                   0.0\n",
       "dtype: float64"
      ]
     },
     "execution_count": 5,
     "metadata": {},
     "output_type": "execute_result"
    }
   ],
   "source": [
    "df.isnull().mean().round(4).mul(100).sort_values(ascending=False)"
   ]
  },
  {
   "cell_type": "markdown",
   "metadata": {},
   "source": [
    "### Show unique values of each non numeric columns"
   ]
  },
  {
   "cell_type": "code",
   "execution_count": 6,
   "metadata": {},
   "outputs": [
    {
     "data": {
      "text/plain": [
       "age                  [59, 60, 58, 50, 56, 57, 45, 55, 52, 53, 43, 5...\n",
       "gender                                                  [Male, Female]\n",
       "education            [7. Higher (Master or Doctor) completed, 4. Hi...\n",
       "marital_status                 [2. Current married or living together]\n",
       "monthly_income       [5. Taka 50,001 or more, 4. Taka 20,001-50,000...\n",
       "limit_diet                                                   [No, Yes]\n",
       "gain_10kg                              [1.  No, 2. Yes, 3. Don't Know]\n",
       "gain_lose_3kg                           [1. No, 2. Yes, 3. Don't Know]\n",
       "eat_2h_sleep                                           [1. No, 2. Yes]\n",
       "soft_drink                              [1. No, 2. Yes, 3. Don't Know]\n",
       "fast_food                                              [1. No, 2. Yes]\n",
       "skip_breakfast                                         [2. Yes, 1. No]\n",
       "eat_faster                              [1. No, 2. Yes, 3. Don't Know]\n",
       "walking_habit        [2. Less than 1 hour per day, 3. Don壽猼 go outs...\n",
       "physical_activity                                            [Yes, No]\n",
       "walk_faster                             [2. Yes, 1. No, 3. Don't Know]\n",
       "sleep_habit          [2. Rarely (1-5 days per month), 3. Sometimes ...\n",
       "stop_activity        [2. Rarely (1-5 days per month), 1. Never, 3. ...\n",
       "height               [159.0, 164.0, 143.0, 160.0, 157.0, 169.0, 172...\n",
       "weight               [52.7, 73.9, 83.7, 45.1, 64.9, 67.9, 57.6, 63....\n",
       "waist                [85.0, 95.0, 102.0, 76.0, 87.0, 93.0, 84.0, 10...\n",
       "hip                  [80, 99, 103, 89, 91, 90, 84, 94, 101, 95, 107...\n",
       "body_temperature     [95.0, 96.26, 97.52, 96.44, 95.72, 96.62, 94.2...\n",
       "spo2                                              [96, 99, 97, 98, 95]\n",
       "bp_sys               [138, 128, 140, 102, 155, 149, 136, 158, 126, ...\n",
       "bp_dia               [78, 67, 81, 65, 98, 95, 90, 79, 89, 91, 69, 7...\n",
       "blood_glucose        [234 (PBS), 93.6 (PBS), 133.2 (PBS), 75.6 (PBS...\n",
       "blood_hemoglobin              [nan, 10.9, 12.1, 11.1, 10.6, 11.0, 9.8]\n",
       "urinary_glucose                                                [-, ++]\n",
       "urinary_protein                                                 [-, +]\n",
       "pulse_rate           [94, 62, 60, 82, 92, 70, 97, 102, 69, 77, 76, ...\n",
       "uric_acid            [4.3, 5.8, 7.0, 3.6, 5.0, 6.8, 5.2, 5.5, 8.4, ...\n",
       "health_status                                             [3, 2, 4, 1]\n",
       "dtype: object"
      ]
     },
     "execution_count": 6,
     "metadata": {},
     "output_type": "execute_result"
    }
   ],
   "source": [
    "# viewing all the data to determine not numeric columns\n",
    "df.apply(lambda col: col.unique())"
   ]
  },
  {
   "cell_type": "code",
   "execution_count": 7,
   "metadata": {},
   "outputs": [
    {
     "name": "stdout",
     "output_type": "stream",
     "text": [
      "gender                                                  [Male, Female]\n",
      "education            [7. Higher (Master or Doctor) completed, 4. Hi...\n",
      "marital_status                 [2. Current married or living together]\n",
      "monthly_income       [5. Taka 50,001 or more, 4. Taka 20,001-50,000...\n",
      "limit_diet                                                   [No, Yes]\n",
      "gain_10kg                              [1.  No, 2. Yes, 3. Don't Know]\n",
      "gain_lose_3kg                           [1. No, 2. Yes, 3. Don't Know]\n",
      "eat_2h_sleep                                           [1. No, 2. Yes]\n",
      "soft_drink                              [1. No, 2. Yes, 3. Don't Know]\n",
      "fast_food                                              [1. No, 2. Yes]\n",
      "skip_breakfast                                         [2. Yes, 1. No]\n",
      "eat_faster                              [1. No, 2. Yes, 3. Don't Know]\n",
      "walking_habit        [2. Less than 1 hour per day, 3. Don壽猼 go outs...\n",
      "physical_activity                                            [Yes, No]\n",
      "walk_faster                             [2. Yes, 1. No, 3. Don't Know]\n",
      "sleep_habit          [2. Rarely (1-5 days per month), 3. Sometimes ...\n",
      "stop_activity        [2. Rarely (1-5 days per month), 1. Never, 3. ...\n",
      "spo2                                              [96, 99, 97, 98, 95]\n",
      "urinary_glucose                                                [-, ++]\n",
      "urinary_protein                                                 [-, +]\n",
      "dtype: object\n"
     ]
    }
   ],
   "source": [
    "all_columns = df.apply(lambda col: col.unique())\n",
    "# all_columns is of type panas.series not pandas.dataframe so drop mechanism is a little different\n",
    "non_numeric_columns = all_columns.drop(labels = ['age', 'height', 'weight','waist','hip','body_temperature','bp_sys','bp_dia','blood_glucose','blood_hemoglobin','pulse_rate','uric_acid','health_status'])\n",
    "print(non_numeric_columns)"
   ]
  },
  {
   "cell_type": "code",
   "execution_count": 8,
   "metadata": {},
   "outputs": [
    {
     "data": {
      "text/plain": [
       "array(['2. Rarely (1-5 days per month)',\n",
       "       '3. Sometimes (6-10 days per month)', '1. Never',\n",
       "       '5. Always (everyday)'], dtype=object)"
      ]
     },
     "execution_count": 8,
     "metadata": {},
     "output_type": "execute_result"
    }
   ],
   "source": [
    "non_numeric_columns.sleep_habit"
   ]
  },
  {
   "cell_type": "code",
   "execution_count": 9,
   "metadata": {},
   "outputs": [
    {
     "data": {
      "text/plain": [
       "<seaborn.axisgrid.FacetGrid at 0x7f8a9e367ee0>"
      ]
     },
     "execution_count": 9,
     "metadata": {},
     "output_type": "execute_result"
    },
    {
     "data": {
      "image/png": "[encoded data removed]",
      "text/plain": [
       "<Figure size 360x360 with 1 Axes>"
      ]
     },
     "metadata": {},
     "output_type": "display_data"
    }
   ],
   "source": [
    "# Health status count for each type\n",
    "sns.catplot(x='health_status', data=df, kind = 'count', palette={1:\"green\", 2:\"yellow\", 3:'orange', 4:'red'})"
   ]
  },
  {
   "cell_type": "code",
   "execution_count": 10,
   "metadata": {},
   "outputs": [
    {
     "data": {
      "text/plain": [
       "<AxesSubplot:ylabel='gender'>"
      ]
     },
     "execution_count": 10,
     "metadata": {},
     "output_type": "execute_result"
    },
    {
     "data": {
      "image/png": "[encoded data removed]",
      "text/plain": [
       "<Figure size 432x432 with 1 Axes>"
      ]
     },
     "metadata": {},
     "output_type": "display_data"
    }
   ],
   "source": [
    "# gender count for each type\n",
    "df.groupby(\"gender\")[\"gender\"].count().plot.pie(figsize=(6,6), autopct='%1.1f%%', startangle=90)"
   ]
  },
  {
   "cell_type": "code",
   "execution_count": 11,
   "metadata": {},
   "outputs": [
    {
     "data": {
      "text/plain": [
       "<AxesSubplot:xlabel='limit_diet', ylabel='count'>"
      ]
     },
     "execution_count": 11,
     "metadata": {},
     "output_type": "execute_result"
    },
    {
     "data": {
      "image/png": "[encoded data removed]",
      "text/plain": [
       "<Figure size 432x288 with 1 Axes>"
      ]
     },
     "metadata": {},
     "output_type": "display_data"
    }
   ],
   "source": [
    "# limit_diet count for each type\n",
    "sns.countplot(x='limit_diet', data=df)"
   ]
  },
  {
   "cell_type": "code",
   "execution_count": 12,
   "metadata": {},
   "outputs": [
    {
     "data": {
      "text/plain": [
       "<AxesSubplot:xlabel='spo2', ylabel='count'>"
      ]
     },
     "execution_count": 12,
     "metadata": {},
     "output_type": "execute_result"
    },
    {
     "data": {
      "image/png": "[encoded data removed]",
      "text/plain": [
       "<Figure size 432x288 with 1 Axes>"
      ]
     },
     "metadata": {},
     "output_type": "display_data"
    }
   ],
   "source": [
    "# spo2 count for each type\n",
    "sns.countplot(x='spo2', data=df)"
   ]
  },
  {
   "cell_type": "code",
   "execution_count": 13,
   "metadata": {},
   "outputs": [
    {
     "data": {
      "text/plain": [
       "<AxesSubplot:xlabel='physical_activity', ylabel='count'>"
      ]
     },
     "execution_count": 13,
     "metadata": {},
     "output_type": "execute_result"
    },
    {
     "data": {
      "image/png": "[encoded data removed]",
      "text/plain": [
       "<Figure size 432x288 with 1 Axes>"
      ]
     },
     "metadata": {},
     "output_type": "display_data"
    }
   ],
   "source": [
    "# physical_activity count for each type\n",
    "sns.countplot(x='physical_activity', data=df)"
   ]
  },
  {
   "cell_type": "code",
   "execution_count": 14,
   "metadata": {},
   "outputs": [
    {
     "data": {
      "text/plain": [
       "<AxesSubplot:xlabel='urinary_glucose', ylabel='count'>"
      ]
     },
     "execution_count": 14,
     "metadata": {},
     "output_type": "execute_result"
    },
    {
     "data": {
      "image/png": "[encoded data removed]",
      "text/plain": [
       "<Figure size 432x288 with 1 Axes>"
      ]
     },
     "metadata": {},
     "output_type": "display_data"
    }
   ],
   "source": [
    "# urinary_glucose count for each type\n",
    "sns.countplot(x='urinary_glucose', data=df)"
   ]
  },
  {
   "cell_type": "code",
   "execution_count": 15,
   "metadata": {},
   "outputs": [
    {
     "data": {
      "text/plain": [
       "<AxesSubplot:xlabel='urinary_protein', ylabel='count'>"
      ]
     },
     "execution_count": 15,
     "metadata": {},
     "output_type": "execute_result"
    },
    {
     "data": {
      "image/png": "[encoded data removed]",
      "text/plain": [
       "<Figure size 432x288 with 1 Axes>"
      ]
     },
     "metadata": {},
     "output_type": "display_data"
    }
   ],
   "source": [
    "# urinary_protein count for each type\n",
    "sns.countplot(x='urinary_protein', data=df)"
   ]
  },
  {
   "cell_type": "code",
   "execution_count": null,
   "metadata": {},
   "outputs": [],
   "source": []
  }
 ],
 "metadata": {
  "kernelspec": {
   "display_name": "Python 3",
   "language": "python",
   "name": "python3"
  },
  "language_info": {
   "codemirror_mode": {
    "name": "ipython",
    "version": 3
   },
   "file_extension": ".py",
   "mimetype": "text/x-python",
   "name": "python",
   "nbconvert_exporter": "python",
   "pygments_lexer": "ipython3",
   "version": "3.8.5"
  }
 },
 "nbformat": 4,
 "nbformat_minor": 4
}
