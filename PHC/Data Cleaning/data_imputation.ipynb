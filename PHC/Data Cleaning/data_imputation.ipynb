{
 "cells": [
  {
   "cell_type": "markdown",
   "metadata": {},
   "source": [
    "### Imports"
   ]
  },
  {
   "cell_type": "code",
   "execution_count": 44,
   "metadata": {},
   "outputs": [],
   "source": [
    "import os\n",
    "import numpy as np\n",
    "from sklearn.experimental import enable_iterative_imputer\n",
    "from sklearn.impute import IterativeImputer\n",
    "from sklearn.preprocessing import LabelEncoder\n",
    "\n",
    "import pandas as pd\n",
    "\n",
    "# plotting modules\n",
    "import seaborn as sns\n",
    "sns.set_theme(style=\"darkgrid\")\n",
    "import matplotlib.pyplot as plt"
   ]
  },
  {
   "cell_type": "markdown",
   "metadata": {},
   "source": [
    "### Load Data"
   ]
  },
  {
   "cell_type": "code",
   "execution_count": 59,
   "metadata": {},
   "outputs": [],
   "source": [
    "df1 = pd.read_csv('../dataset/p1_cleaned_data_full.csv', index_col=0)"
   ]
  },
  {
   "cell_type": "code",
   "execution_count": 60,
   "metadata": {},
   "outputs": [
    {
     "data": {
      "text/plain": [
       "0     4\n",
       "1     4\n",
       "2     4\n",
       "3     4\n",
       "4     4\n",
       "     ..\n",
       "88    3\n",
       "89    3\n",
       "90    3\n",
       "91    4\n",
       "92    3\n",
       "Name: Color, Length: 93, dtype: int64"
      ]
     },
     "execution_count": 60,
     "metadata": {},
     "output_type": "execute_result"
    }
   ],
   "source": [
    "df1['Color']"
   ]
  },
  {
   "cell_type": "markdown",
   "metadata": {},
   "source": [
    "### Preview data and shape"
   ]
  },
  {
   "cell_type": "code",
   "execution_count": 61,
   "metadata": {},
   "outputs": [
    {
     "data": {
      "text/html": [
       "<div>\n",
       "<style scoped>\n",
       "    .dataframe tbody tr th:only-of-type {\n",
       "        vertical-align: middle;\n",
       "    }\n",
       "\n",
       "    .dataframe tbody tr th {\n",
       "        vertical-align: top;\n",
       "    }\n",
       "\n",
       "    .dataframe thead th {\n",
       "        text-align: right;\n",
       "    }\n",
       "</style>\n",
       "<table border=\"1\" class=\"dataframe\">\n",
       "  <thead>\n",
       "    <tr style=\"text-align: right;\">\n",
       "      <th></th>\n",
       "      <th>SL</th>\n",
       "      <th>Bar code Id</th>\n",
       "      <th>Age</th>\n",
       "      <th>Gender</th>\n",
       "      <th>BMI</th>\n",
       "      <th>Waist/Hip</th>\n",
       "      <th>Body Temperature</th>\n",
       "      <th>SpO2</th>\n",
       "      <th>Blood Pressure(sys)</th>\n",
       "      <th>Blood Pressure(dia)</th>\n",
       "      <th>Blood Glucose</th>\n",
       "      <th>Urinary Glucose</th>\n",
       "      <th>Urinary Protein</th>\n",
       "      <th>Pulse Rate</th>\n",
       "      <th>Arrhythmia</th>\n",
       "      <th>Blood uric acid</th>\n",
       "      <th>Color</th>\n",
       "    </tr>\n",
       "  </thead>\n",
       "  <tbody>\n",
       "    <tr>\n",
       "      <th>0</th>\n",
       "      <td>215</td>\n",
       "      <td>1000236740</td>\n",
       "      <td>56</td>\n",
       "      <td>Female</td>\n",
       "      <td>21.02</td>\n",
       "      <td>0.90</td>\n",
       "      <td>97.34</td>\n",
       "      <td>98</td>\n",
       "      <td>105</td>\n",
       "      <td>70</td>\n",
       "      <td>118.8</td>\n",
       "      <td>0</td>\n",
       "      <td>0</td>\n",
       "      <td>104</td>\n",
       "      <td>Normal</td>\n",
       "      <td>8.9</td>\n",
       "      <td>4</td>\n",
       "    </tr>\n",
       "    <tr>\n",
       "      <th>1</th>\n",
       "      <td>116</td>\n",
       "      <td>1001011776</td>\n",
       "      <td>51</td>\n",
       "      <td>Female</td>\n",
       "      <td>21.87</td>\n",
       "      <td>0.89</td>\n",
       "      <td>97.88</td>\n",
       "      <td>98</td>\n",
       "      <td>122</td>\n",
       "      <td>66</td>\n",
       "      <td>111.6</td>\n",
       "      <td>0</td>\n",
       "      <td>0</td>\n",
       "      <td>75</td>\n",
       "      <td>Normal</td>\n",
       "      <td>7.1</td>\n",
       "      <td>4</td>\n",
       "    </tr>\n",
       "    <tr>\n",
       "      <th>2</th>\n",
       "      <td>39</td>\n",
       "      <td>1001014480</td>\n",
       "      <td>60</td>\n",
       "      <td>Male</td>\n",
       "      <td>27.03</td>\n",
       "      <td>0.97</td>\n",
       "      <td>95.90</td>\n",
       "      <td>95</td>\n",
       "      <td>110</td>\n",
       "      <td>71</td>\n",
       "      <td>102.6</td>\n",
       "      <td>0</td>\n",
       "      <td>0</td>\n",
       "      <td>66</td>\n",
       "      <td>Normal</td>\n",
       "      <td>8.1</td>\n",
       "      <td>4</td>\n",
       "    </tr>\n",
       "    <tr>\n",
       "      <th>3</th>\n",
       "      <td>52</td>\n",
       "      <td>1001014482</td>\n",
       "      <td>54</td>\n",
       "      <td>Male</td>\n",
       "      <td>25.26</td>\n",
       "      <td>0.96</td>\n",
       "      <td>93.74</td>\n",
       "      <td>96</td>\n",
       "      <td>130</td>\n",
       "      <td>86</td>\n",
       "      <td>122.4</td>\n",
       "      <td>0</td>\n",
       "      <td>0</td>\n",
       "      <td>87</td>\n",
       "      <td>Normal</td>\n",
       "      <td>8.7</td>\n",
       "      <td>4</td>\n",
       "    </tr>\n",
       "    <tr>\n",
       "      <th>4</th>\n",
       "      <td>75</td>\n",
       "      <td>1000898321</td>\n",
       "      <td>55</td>\n",
       "      <td>Male</td>\n",
       "      <td>22.75</td>\n",
       "      <td>1.00</td>\n",
       "      <td>94.46</td>\n",
       "      <td>98</td>\n",
       "      <td>124</td>\n",
       "      <td>83</td>\n",
       "      <td>387.0</td>\n",
       "      <td>3</td>\n",
       "      <td>0</td>\n",
       "      <td>79</td>\n",
       "      <td>Normal</td>\n",
       "      <td>3.1</td>\n",
       "      <td>4</td>\n",
       "    </tr>\n",
       "  </tbody>\n",
       "</table>\n",
       "</div>"
      ],
      "text/plain": [
       "    SL  Bar code Id  Age   Gender    BMI  Waist/Hip  Body Temperature  SpO2  \\\n",
       "0  215   1000236740    56  Female  21.02       0.90             97.34    98   \n",
       "1  116   1001011776    51  Female  21.87       0.89             97.88    98   \n",
       "2   39   1001014480    60    Male  27.03       0.97             95.90    95   \n",
       "3   52   1001014482    54    Male  25.26       0.96             93.74    96   \n",
       "4   75   1000898321    55    Male  22.75       1.00             94.46    98   \n",
       "\n",
       "   Blood Pressure(sys)  Blood Pressure(dia)  Blood Glucose  Urinary Glucose  \\\n",
       "0                  105                   70          118.8                0   \n",
       "1                  122                   66          111.6                0   \n",
       "2                  110                   71          102.6                0   \n",
       "3                  130                   86          122.4                0   \n",
       "4                  124                   83          387.0                3   \n",
       "\n",
       "   Urinary Protein  Pulse Rate Arrhythmia  Blood uric acid  Color  \n",
       "0                0         104     Normal              8.9      4  \n",
       "1                0          75     Normal              7.1      4  \n",
       "2                0          66     Normal              8.1      4  \n",
       "3                0          87     Normal              8.7      4  \n",
       "4                0          79     Normal              3.1      4  "
      ]
     },
     "execution_count": 61,
     "metadata": {},
     "output_type": "execute_result"
    }
   ],
   "source": [
    "df1.head(5)"
   ]
  },
  {
   "cell_type": "code",
   "execution_count": 48,
   "metadata": {},
   "outputs": [
    {
     "data": {
      "text/plain": [
       "(93, 16)"
      ]
     },
     "execution_count": 48,
     "metadata": {},
     "output_type": "execute_result"
    }
   ],
   "source": [
    "df1.shape"
   ]
  },
  {
   "cell_type": "markdown",
   "metadata": {},
   "source": [
    "### One Hot Encoding"
   ]
  },
  {
   "cell_type": "code",
   "execution_count": 62,
   "metadata": {},
   "outputs": [
    {
     "ename": "TypeError",
     "evalue": "Encoders require their input to be uniformly strings or numbers. Got ['float', 'str']",
     "output_type": "error",
     "traceback": [
      "\u001b[1;31m---------------------------------------------------------------------------\u001b[0m",
      "\u001b[1;31mTypeError\u001b[0m                                 Traceback (most recent call last)",
      "\u001b[1;32mO:\\Technical\\Editors\\Anaconda\\lib\\site-packages\\sklearn\\preprocessing\\_label.py\u001b[0m in \u001b[0;36m_encode\u001b[1;34m(values, uniques, encode, check_unknown)\u001b[0m\n\u001b[0;32m    112\u001b[0m         \u001b[1;32mtry\u001b[0m\u001b[1;33m:\u001b[0m\u001b[1;33m\u001b[0m\u001b[1;33m\u001b[0m\u001b[0m\n\u001b[1;32m--> 113\u001b[1;33m             \u001b[0mres\u001b[0m \u001b[1;33m=\u001b[0m \u001b[0m_encode_python\u001b[0m\u001b[1;33m(\u001b[0m\u001b[0mvalues\u001b[0m\u001b[1;33m,\u001b[0m \u001b[0muniques\u001b[0m\u001b[1;33m,\u001b[0m \u001b[0mencode\u001b[0m\u001b[1;33m)\u001b[0m\u001b[1;33m\u001b[0m\u001b[1;33m\u001b[0m\u001b[0m\n\u001b[0m\u001b[0;32m    114\u001b[0m         \u001b[1;32mexcept\u001b[0m \u001b[0mTypeError\u001b[0m\u001b[1;33m:\u001b[0m\u001b[1;33m\u001b[0m\u001b[1;33m\u001b[0m\u001b[0m\n",
      "\u001b[1;32mO:\\Technical\\Editors\\Anaconda\\lib\\site-packages\\sklearn\\preprocessing\\_label.py\u001b[0m in \u001b[0;36m_encode_python\u001b[1;34m(values, uniques, encode)\u001b[0m\n\u001b[0;32m     60\u001b[0m     \u001b[1;32mif\u001b[0m \u001b[0muniques\u001b[0m \u001b[1;32mis\u001b[0m \u001b[1;32mNone\u001b[0m\u001b[1;33m:\u001b[0m\u001b[1;33m\u001b[0m\u001b[1;33m\u001b[0m\u001b[0m\n\u001b[1;32m---> 61\u001b[1;33m         \u001b[0muniques\u001b[0m \u001b[1;33m=\u001b[0m \u001b[0msorted\u001b[0m\u001b[1;33m(\u001b[0m\u001b[0mset\u001b[0m\u001b[1;33m(\u001b[0m\u001b[0mvalues\u001b[0m\u001b[1;33m)\u001b[0m\u001b[1;33m)\u001b[0m\u001b[1;33m\u001b[0m\u001b[1;33m\u001b[0m\u001b[0m\n\u001b[0m\u001b[0;32m     62\u001b[0m         \u001b[0muniques\u001b[0m \u001b[1;33m=\u001b[0m \u001b[0mnp\u001b[0m\u001b[1;33m.\u001b[0m\u001b[0marray\u001b[0m\u001b[1;33m(\u001b[0m\u001b[0muniques\u001b[0m\u001b[1;33m,\u001b[0m \u001b[0mdtype\u001b[0m\u001b[1;33m=\u001b[0m\u001b[0mvalues\u001b[0m\u001b[1;33m.\u001b[0m\u001b[0mdtype\u001b[0m\u001b[1;33m)\u001b[0m\u001b[1;33m\u001b[0m\u001b[1;33m\u001b[0m\u001b[0m\n",
      "\u001b[1;31mTypeError\u001b[0m: '<' not supported between instances of 'str' and 'float'",
      "\nDuring handling of the above exception, another exception occurred:\n",
      "\u001b[1;31mTypeError\u001b[0m                                 Traceback (most recent call last)",
      "\u001b[1;32m<ipython-input-62-a4cc411e75ed>\u001b[0m in \u001b[0;36m<module>\u001b[1;34m\u001b[0m\n\u001b[0;32m      3\u001b[0m \u001b[0mdf1\u001b[0m\u001b[1;33m[\u001b[0m\u001b[1;34m'Gender'\u001b[0m\u001b[1;33m]\u001b[0m\u001b[1;33m=\u001b[0m \u001b[0mle\u001b[0m\u001b[1;33m.\u001b[0m\u001b[0mtransform\u001b[0m\u001b[1;33m(\u001b[0m\u001b[0mdf1\u001b[0m\u001b[1;33m[\u001b[0m\u001b[1;34m'Gender'\u001b[0m\u001b[1;33m]\u001b[0m\u001b[1;33m)\u001b[0m\u001b[1;33m\u001b[0m\u001b[1;33m\u001b[0m\u001b[0m\n\u001b[0;32m      4\u001b[0m \u001b[1;33m\u001b[0m\u001b[0m\n\u001b[1;32m----> 5\u001b[1;33m \u001b[0mle\u001b[0m\u001b[1;33m.\u001b[0m\u001b[0mfit\u001b[0m\u001b[1;33m(\u001b[0m\u001b[0mdf1\u001b[0m\u001b[1;33m[\u001b[0m\u001b[1;34m'Arrhythmia'\u001b[0m\u001b[1;33m]\u001b[0m\u001b[1;33m)\u001b[0m\u001b[1;33m\u001b[0m\u001b[1;33m\u001b[0m\u001b[0m\n\u001b[0m\u001b[0;32m      6\u001b[0m \u001b[0mdf1\u001b[0m\u001b[1;33m[\u001b[0m\u001b[1;34m'Arrhythmia'\u001b[0m\u001b[1;33m]\u001b[0m\u001b[1;33m=\u001b[0m \u001b[0mle\u001b[0m\u001b[1;33m.\u001b[0m\u001b[0mtransform\u001b[0m\u001b[1;33m(\u001b[0m\u001b[0mdf1\u001b[0m\u001b[1;33m[\u001b[0m\u001b[1;34m'Arrhythmia'\u001b[0m\u001b[1;33m]\u001b[0m\u001b[1;33m)\u001b[0m\u001b[1;33m\u001b[0m\u001b[1;33m\u001b[0m\u001b[0m\n",
      "\u001b[1;32mO:\\Technical\\Editors\\Anaconda\\lib\\site-packages\\sklearn\\preprocessing\\_label.py\u001b[0m in \u001b[0;36mfit\u001b[1;34m(self, y)\u001b[0m\n\u001b[0;32m    238\u001b[0m         \"\"\"\n\u001b[0;32m    239\u001b[0m         \u001b[0my\u001b[0m \u001b[1;33m=\u001b[0m \u001b[0mcolumn_or_1d\u001b[0m\u001b[1;33m(\u001b[0m\u001b[0my\u001b[0m\u001b[1;33m,\u001b[0m \u001b[0mwarn\u001b[0m\u001b[1;33m=\u001b[0m\u001b[1;32mTrue\u001b[0m\u001b[1;33m)\u001b[0m\u001b[1;33m\u001b[0m\u001b[1;33m\u001b[0m\u001b[0m\n\u001b[1;32m--> 240\u001b[1;33m         \u001b[0mself\u001b[0m\u001b[1;33m.\u001b[0m\u001b[0mclasses_\u001b[0m \u001b[1;33m=\u001b[0m \u001b[0m_encode\u001b[0m\u001b[1;33m(\u001b[0m\u001b[0my\u001b[0m\u001b[1;33m)\u001b[0m\u001b[1;33m\u001b[0m\u001b[1;33m\u001b[0m\u001b[0m\n\u001b[0m\u001b[0;32m    241\u001b[0m         \u001b[1;32mreturn\u001b[0m \u001b[0mself\u001b[0m\u001b[1;33m\u001b[0m\u001b[1;33m\u001b[0m\u001b[0m\n\u001b[0;32m    242\u001b[0m \u001b[1;33m\u001b[0m\u001b[0m\n",
      "\u001b[1;32mO:\\Technical\\Editors\\Anaconda\\lib\\site-packages\\sklearn\\preprocessing\\_label.py\u001b[0m in \u001b[0;36m_encode\u001b[1;34m(values, uniques, encode, check_unknown)\u001b[0m\n\u001b[0;32m    115\u001b[0m             types = sorted(t.__qualname__\n\u001b[0;32m    116\u001b[0m                            for t in set(type(v) for v in values))\n\u001b[1;32m--> 117\u001b[1;33m             raise TypeError(\"Encoders require their input to be uniformly \"\n\u001b[0m\u001b[0;32m    118\u001b[0m                             f\"strings or numbers. Got {types}\")\n\u001b[0;32m    119\u001b[0m         \u001b[1;32mreturn\u001b[0m \u001b[0mres\u001b[0m\u001b[1;33m\u001b[0m\u001b[1;33m\u001b[0m\u001b[0m\n",
      "\u001b[1;31mTypeError\u001b[0m: Encoders require their input to be uniformly strings or numbers. Got ['float', 'str']"
     ]
    }
   ],
   "source": [
    "le = LabelEncoder()\n",
    "le.fit(df1['Gender'])\n",
    "df1['Gender']= le.transform(df1['Gender'])\n",
    "\n",
    "le.fit(df1['Arrhythmia'])\n",
    "df1['Arrhythmia']= le.transform(df1['Arrhythmia'])"
   ]
  },
  {
   "cell_type": "code",
   "execution_count": 54,
   "metadata": {},
   "outputs": [
    {
     "data": {
      "text/plain": [
       "['Female', 'Male']"
      ]
     },
     "execution_count": 54,
     "metadata": {},
     "output_type": "execute_result"
    }
   ],
   "source": [
    "list(le.classes_)"
   ]
  },
  {
   "cell_type": "code",
   "execution_count": 55,
   "metadata": {},
   "outputs": [
    {
     "data": {
      "text/plain": [
       "['Female', 'Male']"
      ]
     },
     "execution_count": 55,
     "metadata": {},
     "output_type": "execute_result"
    }
   ],
   "source": [
    "list(le.inverse_transform([0, 1]))"
   ]
  },
  {
   "cell_type": "code",
   "execution_count": 56,
   "metadata": {},
   "outputs": [
    {
     "data": {
      "text/html": [
       "<div>\n",
       "<style scoped>\n",
       "    .dataframe tbody tr th:only-of-type {\n",
       "        vertical-align: middle;\n",
       "    }\n",
       "\n",
       "    .dataframe tbody tr th {\n",
       "        vertical-align: top;\n",
       "    }\n",
       "\n",
       "    .dataframe thead th {\n",
       "        text-align: right;\n",
       "    }\n",
       "</style>\n",
       "<table border=\"1\" class=\"dataframe\">\n",
       "  <thead>\n",
       "    <tr style=\"text-align: right;\">\n",
       "      <th></th>\n",
       "      <th>SL</th>\n",
       "      <th>Bar code Id</th>\n",
       "      <th>Age</th>\n",
       "      <th>Gender</th>\n",
       "      <th>BMI</th>\n",
       "      <th>Waist/Hip</th>\n",
       "      <th>Body Temperature</th>\n",
       "      <th>SpO2</th>\n",
       "      <th>Blood Pressure(sys)</th>\n",
       "      <th>Blood Pressure(dia)</th>\n",
       "      <th>Blood Glucose</th>\n",
       "      <th>Urinary Glucose</th>\n",
       "      <th>Urinary Protein</th>\n",
       "      <th>Pulse Rate</th>\n",
       "      <th>Blood uric acid</th>\n",
       "      <th>Color</th>\n",
       "    </tr>\n",
       "  </thead>\n",
       "  <tbody>\n",
       "    <tr>\n",
       "      <th>0</th>\n",
       "      <td>215</td>\n",
       "      <td>1000236740</td>\n",
       "      <td>56</td>\n",
       "      <td>0</td>\n",
       "      <td>21.02</td>\n",
       "      <td>0.90</td>\n",
       "      <td>97.34</td>\n",
       "      <td>98</td>\n",
       "      <td>105</td>\n",
       "      <td>70</td>\n",
       "      <td>118.8</td>\n",
       "      <td>0</td>\n",
       "      <td>0</td>\n",
       "      <td>104</td>\n",
       "      <td>8.9</td>\n",
       "      <td>4</td>\n",
       "    </tr>\n",
       "    <tr>\n",
       "      <th>1</th>\n",
       "      <td>116</td>\n",
       "      <td>1001011776</td>\n",
       "      <td>51</td>\n",
       "      <td>0</td>\n",
       "      <td>21.87</td>\n",
       "      <td>0.89</td>\n",
       "      <td>97.88</td>\n",
       "      <td>98</td>\n",
       "      <td>122</td>\n",
       "      <td>66</td>\n",
       "      <td>111.6</td>\n",
       "      <td>0</td>\n",
       "      <td>0</td>\n",
       "      <td>75</td>\n",
       "      <td>7.1</td>\n",
       "      <td>4</td>\n",
       "    </tr>\n",
       "    <tr>\n",
       "      <th>2</th>\n",
       "      <td>39</td>\n",
       "      <td>1001014480</td>\n",
       "      <td>60</td>\n",
       "      <td>1</td>\n",
       "      <td>27.03</td>\n",
       "      <td>0.97</td>\n",
       "      <td>95.90</td>\n",
       "      <td>95</td>\n",
       "      <td>110</td>\n",
       "      <td>71</td>\n",
       "      <td>102.6</td>\n",
       "      <td>0</td>\n",
       "      <td>0</td>\n",
       "      <td>66</td>\n",
       "      <td>8.1</td>\n",
       "      <td>4</td>\n",
       "    </tr>\n",
       "    <tr>\n",
       "      <th>3</th>\n",
       "      <td>52</td>\n",
       "      <td>1001014482</td>\n",
       "      <td>54</td>\n",
       "      <td>1</td>\n",
       "      <td>25.26</td>\n",
       "      <td>0.96</td>\n",
       "      <td>93.74</td>\n",
       "      <td>96</td>\n",
       "      <td>130</td>\n",
       "      <td>86</td>\n",
       "      <td>122.4</td>\n",
       "      <td>0</td>\n",
       "      <td>0</td>\n",
       "      <td>87</td>\n",
       "      <td>8.7</td>\n",
       "      <td>4</td>\n",
       "    </tr>\n",
       "    <tr>\n",
       "      <th>4</th>\n",
       "      <td>75</td>\n",
       "      <td>1000898321</td>\n",
       "      <td>55</td>\n",
       "      <td>1</td>\n",
       "      <td>22.75</td>\n",
       "      <td>1.00</td>\n",
       "      <td>94.46</td>\n",
       "      <td>98</td>\n",
       "      <td>124</td>\n",
       "      <td>83</td>\n",
       "      <td>387.0</td>\n",
       "      <td>3</td>\n",
       "      <td>0</td>\n",
       "      <td>79</td>\n",
       "      <td>3.1</td>\n",
       "      <td>4</td>\n",
       "    </tr>\n",
       "  </tbody>\n",
       "</table>\n",
       "</div>"
      ],
      "text/plain": [
       "    SL  Bar code Id  Age   Gender    BMI  Waist/Hip  Body Temperature  SpO2  \\\n",
       "0  215   1000236740    56       0  21.02       0.90             97.34    98   \n",
       "1  116   1001011776    51       0  21.87       0.89             97.88    98   \n",
       "2   39   1001014480    60       1  27.03       0.97             95.90    95   \n",
       "3   52   1001014482    54       1  25.26       0.96             93.74    96   \n",
       "4   75   1000898321    55       1  22.75       1.00             94.46    98   \n",
       "\n",
       "   Blood Pressure(sys)  Blood Pressure(dia)  Blood Glucose  Urinary Glucose  \\\n",
       "0                  105                   70          118.8                0   \n",
       "1                  122                   66          111.6                0   \n",
       "2                  110                   71          102.6                0   \n",
       "3                  130                   86          122.4                0   \n",
       "4                  124                   83          387.0                3   \n",
       "\n",
       "   Urinary Protein  Pulse Rate  Blood uric acid  Color  \n",
       "0                0         104              8.9      4  \n",
       "1                0          75              7.1      4  \n",
       "2                0          66              8.1      4  \n",
       "3                0          87              8.7      4  \n",
       "4                0          79              3.1      4  "
      ]
     },
     "execution_count": 56,
     "metadata": {},
     "output_type": "execute_result"
    }
   ],
   "source": [
    "df1.head()"
   ]
  },
  {
   "cell_type": "code",
   "execution_count": 58,
   "metadata": {},
   "outputs": [
    {
     "ename": "AttributeError",
     "evalue": "'numpy.ndarray' object has no attribute 'head'",
     "output_type": "error",
     "traceback": [
      "\u001b[1;31m---------------------------------------------------------------------------\u001b[0m",
      "\u001b[1;31mAttributeError\u001b[0m                            Traceback (most recent call last)",
      "\u001b[1;32m<ipython-input-58-3a213a10e419>\u001b[0m in \u001b[0;36m<module>\u001b[1;34m\u001b[0m\n\u001b[0;32m      1\u001b[0m \u001b[0mimputer_it\u001b[0m \u001b[1;33m=\u001b[0m \u001b[0mIterativeImputer\u001b[0m\u001b[1;33m(\u001b[0m\u001b[1;33m)\u001b[0m\u001b[1;33m\u001b[0m\u001b[1;33m\u001b[0m\u001b[0m\n\u001b[0;32m      2\u001b[0m \u001b[0mtest\u001b[0m \u001b[1;33m=\u001b[0m \u001b[0mimputer_it\u001b[0m\u001b[1;33m.\u001b[0m\u001b[0mfit_transform\u001b[0m\u001b[1;33m(\u001b[0m\u001b[0mdf1\u001b[0m\u001b[1;33m)\u001b[0m\u001b[1;33m\u001b[0m\u001b[1;33m\u001b[0m\u001b[0m\n\u001b[1;32m----> 3\u001b[1;33m \u001b[0mtest\u001b[0m\u001b[1;33m.\u001b[0m\u001b[0mhead\u001b[0m\u001b[1;33m(\u001b[0m\u001b[1;33m)\u001b[0m\u001b[1;33m\u001b[0m\u001b[1;33m\u001b[0m\u001b[0m\n\u001b[0m",
      "\u001b[1;31mAttributeError\u001b[0m: 'numpy.ndarray' object has no attribute 'head'"
     ]
    }
   ],
   "source": [
    "imputer_it = IterativeImputer()\n",
    "test = imputer_it.fit_transform(df1)\n",
    "test.()"
   ]
  },
  {
   "cell_type": "markdown",
   "metadata": {},
   "source": [
    "### Show unique values of each non numeric columns"
   ]
  },
  {
   "cell_type": "code",
   "execution_count": 63,
   "metadata": {},
   "outputs": [
    {
     "data": {
      "text/plain": [
       "SL                     [215, 116, 39, 52, 75, 167, 192, 224, 145, 246...\n",
       "Bar code Id            [1000236740, 1001011776, 1001014480, 100101448...\n",
       "Age                    [56, 51, 60, 54, 55, 45, 58, 49, 40, 41, 57, 5...\n",
       "Gender                                                            [0, 1]\n",
       "BMI                    [21.02, 21.87, 27.03, 25.26, 22.75, 30.39, 23....\n",
       "Waist/Hip              [0.9, 0.89, 0.97, 0.96, 1.0, 0.94, 0.93, 0.92,...\n",
       "Body Temperature       [97.34, 97.88, 95.9, 93.74, 94.46, 96.26, 96.0...\n",
       "SpO2                                            [98, 95, 96, 97, 99, 93]\n",
       "Blood Pressure(sys)    [105, 122, 110, 130, 124, 111, 141, 136, 119, ...\n",
       "Blood Pressure(dia)    [70, 66, 71, 86, 83, 75, 89, 100, 84, 82, 60, ...\n",
       "Blood Glucose          [118.8, 111.6, 102.6, 122.4, 387.0, 144.0, 142...\n",
       "Urinary Glucose                                             [0, 3, 2, 1]\n",
       "Urinary Protein                                             [0, 2, 1, 3]\n",
       "Pulse Rate             [104, 75, 66, 87, 79, 92, 91, 69, 70, 76, 80, ...\n",
       "Arrhythmia                                                 [Normal, nan]\n",
       "Blood uric acid        [8.9, 7.1, 8.1, 8.7, 3.1, 9.3, 8.4, 8.8, 6.6, ...\n",
       "Color                                                             [4, 3]\n",
       "dtype: object"
      ]
     },
     "execution_count": 63,
     "metadata": {},
     "output_type": "execute_result"
    }
   ],
   "source": [
    "# viewing all the data to determine not numeric columns\n",
    "df1.apply(lambda col: col.unique())"
   ]
  },
  {
   "cell_type": "code",
   "execution_count": 46,
   "metadata": {},
   "outputs": [
    {
     "name": "stdout",
     "output_type": "stream",
     "text": [
      "SL                 [215, 116, 39, 52, 75, 167, 192, 224, 145, 246...\n",
      "Bar code Id        [1000236740, 1001011776, 1001014480, 100101448...\n",
      "Gender                                                [Female, Male]\n",
      "BMI                [21.02, 21.87, 27.03, 25.26, 22.75, 30.39, 23....\n",
      "Waist/Hip          [0.9, 0.89, 0.97, 0.96, 1.0, 0.94, 0.93, 0.92,...\n",
      "Blood Glucose      [118.8, 111.6, 102.6, 122.4, 387.0, 144.0, 142...\n",
      "Urinary Glucose                                           [0, 1, +-]\n",
      "Urinary Protein                                           [0, 1, +-]\n",
      "Color                                                         [4, 3]\n",
      "dtype: object\n"
     ]
    }
   ],
   "source": [
    "all_columns = df1.apply(lambda col: col.unique())\n",
    "# all_columns is of type pandas.series not pandas.dataframe so drop mechanism is a little different\n",
    "non_numeric_columns = all_columns.drop(labels = ['Age ','Body Temperature','SpO2','Blood Pressure(sys)','Blood Pressure(dia)','Pulse Rate','Blood uric acid'])\n",
    "print(non_numeric_columns)"
   ]
  },
  {
   "cell_type": "code",
   "execution_count": 47,
   "metadata": {},
   "outputs": [
    {
     "name": "stdout",
     "output_type": "stream",
     "text": [
      "---------------------------------Distinct values for SL------------------------------------------\n",
      "215\n",
      "116\n",
      "39\n",
      "52\n",
      "75\n",
      "167\n",
      "192\n",
      "224\n",
      "145\n",
      "246\n",
      "138\n",
      "177\n",
      "268\n",
      "249\n",
      "57\n",
      "83\n",
      "129\n",
      "200\n",
      "205\n",
      "234\n",
      "81\n",
      "245\n",
      "35\n",
      "44\n",
      "89\n",
      "151\n",
      "40\n",
      "24\n",
      "262\n",
      "15\n",
      "19\n",
      "29\n",
      "38\n",
      "42\n",
      "54\n",
      "67\n",
      "72\n",
      "78\n",
      "82\n",
      "92\n",
      "96\n",
      "115\n",
      "137\n",
      "146\n",
      "162\n",
      "174\n",
      "186\n",
      "206\n",
      "207\n",
      "217\n",
      "239\n",
      "105\n",
      "256\n",
      "182\n",
      "26\n",
      "97\n",
      "99\n",
      "106\n",
      "193\n",
      "225\n",
      "124\n",
      "144\n",
      "226\n",
      "244\n",
      "12\n",
      "141\n",
      "73\n",
      "102\n",
      "109\n",
      "201\n",
      "216\n",
      "238\n",
      "260\n",
      "271\n",
      "18\n",
      "41\n",
      "88\n",
      "241\n",
      "23\n",
      "27\n",
      "31\n",
      "34\n",
      "49\n",
      "84\n",
      "100\n",
      "128\n",
      "149\n",
      "154\n",
      "172\n",
      "233\n",
      "235\n",
      "98\n",
      "143\n",
      "---------------------------------Distinct values for Bar code Id------------------------------------------\n",
      "1000236740\n",
      "1001011776\n",
      "1001014480\n",
      "1001014482\n",
      "1000898321\n",
      "1000226230\n",
      "1000227560\n",
      "1000227530\n",
      "1000220040\n",
      "1001014659\n",
      "1000234110\n",
      "1000238960\n",
      "1000349200\n",
      "1001014644\n",
      "1000783076\n",
      "1000221000\n",
      "1000237390\n",
      "1000237570\n",
      "1001014622\n",
      "1001014648\n",
      "1001014516\n",
      "1000783964\n",
      "1001014458\n",
      "1000228040\n",
      "1000226360\n",
      "1001014541\n",
      "1001014481\n",
      "1001014456\n",
      "1000239190\n",
      "1001014447\n",
      "1001014459\n",
      "1000350730\n",
      "1001014479\n",
      "1000783065\n",
      "1000226340\n",
      "1001014504\n",
      "1001014503\n",
      "1001014517\n",
      "1000236050\n",
      "1001014521\n",
      "1000228870\n",
      "1000230800\n",
      "1000236240\n",
      "1000468234\n",
      "1001014576\n",
      "1001014585\n",
      "1001014569\n",
      "1000236610\n",
      "1000220680\n",
      "1001014631\n",
      "1001014654\n",
      "1000230910\n",
      "1000227230\n",
      "1001014594\n",
      "1001014461\n",
      "1000234050\n",
      "1001014512\n",
      "1000236130\n",
      "1000228110\n",
      "1000784235\n",
      "1000469358\n",
      "1000237410\n",
      "1000237600\n",
      "1001014651\n",
      "1001014444\n",
      "1000237340\n",
      "1000220480\n",
      "1000893775\n",
      "1000233960\n",
      "1000237620\n",
      "1000237630\n",
      "1001014653\n",
      "1000684997\n",
      "1000237580\n",
      "1001014448\n",
      "1001014476\n",
      "1001014514\n",
      "1001014655\n",
      "1001014460\n",
      "1000226430\n",
      "1001014449\n",
      "1000237500\n",
      "1000237510\n",
      "1000226240\n",
      "1000781625\n",
      "1000237700\n",
      "1000682580\n",
      "1000237780\n",
      "1000229210\n",
      "1001014658\n",
      "1001014649\n",
      "1000238260\n",
      "1001014549\n",
      "---------------------------------Distinct values for Gender------------------------------------------\n",
      "Female\n",
      "Male\n",
      "---------------------------------Distinct values for BMI------------------------------------------\n",
      "21.02\n",
      "21.87\n",
      "27.03\n",
      "25.26\n",
      "22.75\n",
      "30.39\n",
      "23.99\n",
      "24.01\n",
      "27.7\n",
      "25.47\n",
      "30.65\n",
      "23.32\n",
      "22.55\n",
      "24.88\n",
      "33.42\n",
      "29.37\n",
      "23.95\n",
      "22.2\n",
      "26.32\n",
      "32.13\n",
      "24.86\n",
      "20.23\n",
      "32.05\n",
      "22.8\n",
      "22.92\n",
      "30.36\n",
      "27.59\n",
      "29.96\n",
      "21.95\n",
      "27.02\n",
      "31.56\n",
      "24.79\n",
      "26.06\n",
      "28.89\n",
      "25.55\n",
      "24.14\n",
      "23.76\n",
      "21.61\n",
      "27.47\n",
      "24.15\n",
      "31.02\n",
      "23.02\n",
      "28.86\n",
      "20.13\n",
      "25.46\n",
      "23.18\n",
      "25.73\n",
      "20.81\n",
      "26.77\n",
      "27.14\n",
      "27.77\n",
      "26.49\n",
      "26.86\n",
      "26.68\n",
      "24.09\n",
      "22.34\n",
      "26.72\n",
      "26.35\n",
      "23.17\n",
      "21.42\n",
      "24.34\n",
      "29.58\n",
      "23.52\n",
      "24.93\n",
      "26.45\n",
      "24.1\n",
      "23.9\n",
      "23.72\n",
      "21.53\n",
      "23.01\n",
      "25.15\n",
      "26.84\n",
      "26.37\n",
      "29.17\n",
      "21.45\n",
      "25.49\n",
      "26.41\n",
      "23.83\n",
      "26.57\n",
      "25.96\n",
      "25.48\n",
      "24.35\n",
      "23.63\n",
      "24.98\n",
      "26.18\n",
      "28.22\n",
      "19.61\n",
      "---------------------------------Distinct values for Waist/Hip------------------------------------------\n",
      "0.9\n",
      "0.89\n",
      "0.97\n",
      "0.96\n",
      "1.0\n",
      "0.94\n",
      "0.93\n",
      "0.92\n",
      "1.02\n",
      "0.91\n",
      "1.01\n",
      "0.88\n",
      "0.98\n",
      "0.64\n",
      "1.04\n",
      "0.86\n",
      "0.99\n",
      "0.95\n",
      "1.05\n",
      "1.06\n",
      "1.03\n",
      "0.8\n",
      "---------------------------------Distinct values for Blood Glucose------------------------------------------\n",
      "118.8\n",
      "111.6\n",
      "102.6\n",
      "122.4\n",
      "387.0\n",
      "144.0\n",
      "142.2\n",
      "95.4\n",
      "88.2\n",
      "124.2\n",
      "66.6\n",
      "306.0\n",
      "266.4\n",
      "138.6\n",
      "307.8\n",
      "120.6\n",
      "97.2\n",
      "154.8\n",
      "252.0\n",
      "109.8\n",
      "174.6\n",
      "136.8\n",
      "156.6\n",
      "104.4\n",
      "91.8\n",
      "176.4\n",
      "208.8\n",
      "113.4\n",
      "86.4\n",
      "160.2\n",
      "99.0\n",
      "194.4\n",
      "180.0\n",
      "253.8\n",
      "133.2\n",
      "149.4\n",
      "226.8\n",
      "392.4\n",
      "117.0\n",
      "223.2\n",
      "81.0\n",
      "234.0\n",
      "82.8\n",
      "84.6\n",
      "108.0\n",
      "77.4\n",
      "90.0\n",
      "100.8\n",
      "151.2\n",
      "205.2\n",
      "127.8\n",
      "289.8\n",
      "207.0\n",
      "73.8\n",
      "---------------------------------Distinct values for Urinary Glucose------------------------------------------\n",
      "0\n",
      "1\n",
      "+-\n",
      "---------------------------------Distinct values for Urinary Protein------------------------------------------\n",
      "0\n",
      "1\n",
      "+-\n",
      "---------------------------------Distinct values for Color------------------------------------------\n",
      "4\n",
      "3\n"
     ]
    }
   ],
   "source": [
    "for key in non_numeric_columns.keys():\n",
    "    print(f'---------------------------------Distinct values for {key}------------------------------------------')\n",
    "    print(*non_numeric_columns[key], sep='\\n')"
   ]
  },
  {
   "cell_type": "code",
   "execution_count": 62,
   "metadata": {},
   "outputs": [
    {
     "data": {
      "text/plain": [
       "<seaborn.axisgrid.FacetGrid at 0x7f9aa38620d0>"
      ]
     },
     "execution_count": 62,
     "metadata": {},
     "output_type": "execute_result"
    },
    {
     "data": {
      "image/png": "[encoded data removed]",
      "text/plain": [
       "<Figure size 360x360 with 1 Axes>"
      ]
     },
     "metadata": {},
     "output_type": "display_data"
    }
   ],
   "source": [
    "# Health status count for each type\n",
    "legend_labels  = ['Healthy', 'Suspicious', 'Affected', 'Emergent']\n",
    "sns.catplot(x='Color', data=df3, kind = 'count', palette={1:\"green\", 2:\"yellow\", 3:'orange', 4:'red'}, legend=True).set_xticklabels(legend_labels)"
   ]
  },
  {
   "cell_type": "code",
   "execution_count": 56,
   "metadata": {},
   "outputs": [
    {
     "data": {
      "text/plain": [
       "<AxesSubplot:ylabel='gender'>"
      ]
     },
     "execution_count": 56,
     "metadata": {},
     "output_type": "execute_result"
    },
    {
     "data": {
      "image/png": "[encoded data removed]",
      "text/plain": [
       "<Figure size 432x432 with 1 Axes>"
      ]
     },
     "metadata": {},
     "output_type": "display_data"
    }
   ],
   "source": []
  },
  {
   "cell_type": "code",
   "execution_count": 11,
   "metadata": {},
   "outputs": [
    {
     "data": {
      "text/plain": [
       "<AxesSubplot:xlabel='limit_diet', ylabel='count'>"
      ]
     },
     "execution_count": 11,
     "metadata": {},
     "output_type": "execute_result"
    },
    {
     "data": {
      "image/png": "[encoded data removed]",
      "text/plain": [
       "<Figure size 432x288 with 1 Axes>"
      ]
     },
     "metadata": {},
     "output_type": "display_data"
    }
   ],
   "source": []
  },
  {
   "cell_type": "code",
   "execution_count": 12,
   "metadata": {},
   "outputs": [
    {
     "data": {
      "text/plain": [
       "<AxesSubplot:xlabel='spo2', ylabel='count'>"
      ]
     },
     "execution_count": 12,
     "metadata": {},
     "output_type": "execute_result"
    },
    {
     "data": {
      "image/png": "[encoded data removed]",
      "text/plain": [
       "<Figure size 432x288 with 1 Axes>"
      ]
     },
     "metadata": {},
     "output_type": "display_data"
    }
   ],
   "source": []
  },
  {
   "cell_type": "code",
   "execution_count": 59,
   "metadata": {},
   "outputs": [
    {
     "data": {
      "text/plain": [
       "<AxesSubplot:ylabel='physical_activity'>"
      ]
     },
     "execution_count": 59,
     "metadata": {},
     "output_type": "execute_result"
    },
    {
     "data": {
      "image/png": "[encoded data removed]",
      "text/plain": [
       "<Figure size 432x432 with 1 Axes>"
      ]
     },
     "metadata": {},
     "output_type": "display_data"
    }
   ],
   "source": []
  },
  {
   "cell_type": "code",
   "execution_count": 61,
   "metadata": {},
   "outputs": [
    {
     "data": {
      "text/plain": [
       "<AxesSubplot:xlabel='urinary_glucose', ylabel='count'>"
      ]
     },
     "execution_count": 61,
     "metadata": {},
     "output_type": "execute_result"
    },
    {
     "data": {
      "image/png": "[encoded data removed]",
      "text/plain": [
       "<Figure size 432x288 with 1 Axes>"
      ]
     },
     "metadata": {},
     "output_type": "display_data"
    }
   ],
   "source": []
  },
  {
   "cell_type": "code",
   "execution_count": 15,
   "metadata": {},
   "outputs": [
    {
     "data": {
      "text/plain": [
       "<AxesSubplot:xlabel='urinary_protein', ylabel='count'>"
      ]
     },
     "execution_count": 15,
     "metadata": {},
     "output_type": "execute_result"
    },
    {
     "data": {
      "image/png": "[encoded data removed]",
      "text/plain": [
       "<Figure size 432x288 with 1 Axes>"
      ]
     },
     "metadata": {},
     "output_type": "display_data"
    }
   ],
   "source": []
  },
  {
   "cell_type": "code",
   "execution_count": null,
   "metadata": {},
   "outputs": [],
   "source": []
  }
 ],
 "metadata": {
  "kernelspec": {
   "display_name": "Python 3",
   "language": "python",
   "name": "python3"
  },
  "language_info": {
   "codemirror_mode": {
    "name": "ipython",
    "version": 3
   },
   "file_extension": ".py",
   "mimetype": "text/x-python",
   "name": "python",
   "nbconvert_exporter": "python",
   "pygments_lexer": "ipython3",
   "version": "3.8.5"
  }
 },
 "nbformat": 4,
 "nbformat_minor": 4
}
