{
 "cells": [
  {
   "cell_type": "markdown",
   "metadata": {},
   "source": [
    "# PHC Prediciton SVM"
   ]
  },
  {
   "cell_type": "markdown",
   "metadata": {},
   "source": [
    "### Importing The Dependencies"
   ]
  },
  {
   "cell_type": "code",
   "execution_count": 1,
   "metadata": {},
   "outputs": [],
   "source": [
    "import os\n",
    "import numpy as np\n",
    "import pandas as pd\n",
    "from sklearn.preprocessing import StandardScaler\n",
    "from sklearn.model_selection import train_test_split\n",
    "from sklearn import svm\n",
    "from sklearn.metrics import accuracy_score\n",
    "from sklearn.discriminant_analysis import LinearDiscriminantAnalysis as LDA\n",
    "\n",
    "import seaborn as sns\n"
   ]
  },
  {
   "cell_type": "markdown",
   "metadata": {},
   "source": [
    "### Data Collection and Analysis\n",
    "\n",
    "#### PHS health dataset"
   ]
  },
  {
   "cell_type": "code",
   "execution_count": 2,
   "metadata": {},
   "outputs": [],
   "source": [
    "df = pd.read_csv('dataset/clean_sample_data.csv', index_col=0)\n",
    "\n",
    "#feature cleaning\n",
    "df['SpO2'] = (df['SpO2'] >= 95.0).astype(int)\n",
    "df['BloodPressure(sys)'] = (df['BloodPressure(sys)'] <= 120).astype(int)\n",
    "df['BloodPressure(dia)'] = (df['BloodPressure(dia)'] <= 80).astype(int)\n",
    "df['pressure'] = df['BloodPressure(sys)'] & df['BloodPressure(dia)']\n",
    "\n"
   ]
  },
  {
   "cell_type": "code",
   "execution_count": 3,
   "metadata": {},
   "outputs": [
    {
     "data": {
      "text/html": [
       "<div>\n",
       "<style scoped>\n",
       "    .dataframe tbody tr th:only-of-type {\n",
       "        vertical-align: middle;\n",
       "    }\n",
       "\n",
       "    .dataframe tbody tr th {\n",
       "        vertical-align: top;\n",
       "    }\n",
       "\n",
       "    .dataframe thead th {\n",
       "        text-align: right;\n",
       "    }\n",
       "</style>\n",
       "<table border=\"1\" class=\"dataframe\">\n",
       "  <thead>\n",
       "    <tr style=\"text-align: right;\">\n",
       "      <th></th>\n",
       "      <th>Age</th>\n",
       "      <th>Gender</th>\n",
       "      <th>Height</th>\n",
       "      <th>Weight</th>\n",
       "      <th>BMI</th>\n",
       "      <th>Waist</th>\n",
       "      <th>Hip</th>\n",
       "      <th>Waist/Hip Ratio</th>\n",
       "      <th>BodyTemperature</th>\n",
       "      <th>SpO2</th>\n",
       "      <th>BloodPressure(sys)</th>\n",
       "      <th>BloodPressure(dia)</th>\n",
       "      <th>BloodGlucose</th>\n",
       "      <th>PulseRate</th>\n",
       "      <th>BloodUricAcid</th>\n",
       "      <th>Color</th>\n",
       "      <th>pressure</th>\n",
       "    </tr>\n",
       "  </thead>\n",
       "  <tbody>\n",
       "    <tr>\n",
       "      <th>0</th>\n",
       "      <td>59</td>\n",
       "      <td>1</td>\n",
       "      <td>159.0</td>\n",
       "      <td>52.7</td>\n",
       "      <td>20.85</td>\n",
       "      <td>85.0</td>\n",
       "      <td>80</td>\n",
       "      <td>1.06</td>\n",
       "      <td>95.00</td>\n",
       "      <td>1</td>\n",
       "      <td>0</td>\n",
       "      <td>1</td>\n",
       "      <td>234.0</td>\n",
       "      <td>94</td>\n",
       "      <td>4.3</td>\n",
       "      <td>3</td>\n",
       "      <td>0</td>\n",
       "    </tr>\n",
       "    <tr>\n",
       "      <th>1</th>\n",
       "      <td>60</td>\n",
       "      <td>1</td>\n",
       "      <td>164.0</td>\n",
       "      <td>73.9</td>\n",
       "      <td>27.48</td>\n",
       "      <td>95.0</td>\n",
       "      <td>99</td>\n",
       "      <td>0.96</td>\n",
       "      <td>96.26</td>\n",
       "      <td>1</td>\n",
       "      <td>0</td>\n",
       "      <td>1</td>\n",
       "      <td>93.6</td>\n",
       "      <td>62</td>\n",
       "      <td>5.8</td>\n",
       "      <td>2</td>\n",
       "      <td>0</td>\n",
       "    </tr>\n",
       "    <tr>\n",
       "      <th>2</th>\n",
       "      <td>58</td>\n",
       "      <td>1</td>\n",
       "      <td>164.0</td>\n",
       "      <td>83.7</td>\n",
       "      <td>31.12</td>\n",
       "      <td>102.0</td>\n",
       "      <td>103</td>\n",
       "      <td>0.99</td>\n",
       "      <td>95.00</td>\n",
       "      <td>1</td>\n",
       "      <td>0</td>\n",
       "      <td>0</td>\n",
       "      <td>133.2</td>\n",
       "      <td>60</td>\n",
       "      <td>7.0</td>\n",
       "      <td>3</td>\n",
       "      <td>0</td>\n",
       "    </tr>\n",
       "    <tr>\n",
       "      <th>3</th>\n",
       "      <td>50</td>\n",
       "      <td>0</td>\n",
       "      <td>143.0</td>\n",
       "      <td>45.1</td>\n",
       "      <td>22.05</td>\n",
       "      <td>76.0</td>\n",
       "      <td>89</td>\n",
       "      <td>0.85</td>\n",
       "      <td>97.52</td>\n",
       "      <td>1</td>\n",
       "      <td>1</td>\n",
       "      <td>1</td>\n",
       "      <td>75.6</td>\n",
       "      <td>82</td>\n",
       "      <td>3.6</td>\n",
       "      <td>2</td>\n",
       "      <td>1</td>\n",
       "    </tr>\n",
       "    <tr>\n",
       "      <th>4</th>\n",
       "      <td>56</td>\n",
       "      <td>1</td>\n",
       "      <td>160.0</td>\n",
       "      <td>64.9</td>\n",
       "      <td>25.35</td>\n",
       "      <td>87.0</td>\n",
       "      <td>91</td>\n",
       "      <td>0.96</td>\n",
       "      <td>96.44</td>\n",
       "      <td>1</td>\n",
       "      <td>0</td>\n",
       "      <td>0</td>\n",
       "      <td>223.2</td>\n",
       "      <td>92</td>\n",
       "      <td>5.0</td>\n",
       "      <td>3</td>\n",
       "      <td>0</td>\n",
       "    </tr>\n",
       "  </tbody>\n",
       "</table>\n",
       "</div>"
      ],
      "text/plain": [
       "   Age   Gender  Height  Weight    BMI  Waist  Hip  Waist/Hip Ratio  \\\n",
       "0    59       1   159.0    52.7  20.85   85.0   80             1.06   \n",
       "1    60       1   164.0    73.9  27.48   95.0   99             0.96   \n",
       "2    58       1   164.0    83.7  31.12  102.0  103             0.99   \n",
       "3    50       0   143.0    45.1  22.05   76.0   89             0.85   \n",
       "4    56       1   160.0    64.9  25.35   87.0   91             0.96   \n",
       "\n",
       "   BodyTemperature  SpO2  BloodPressure(sys)  BloodPressure(dia)  \\\n",
       "0            95.00     1                   0                   1   \n",
       "1            96.26     1                   0                   1   \n",
       "2            95.00     1                   0                   0   \n",
       "3            97.52     1                   1                   1   \n",
       "4            96.44     1                   0                   0   \n",
       "\n",
       "   BloodGlucose  PulseRate  BloodUricAcid  Color  pressure  \n",
       "0         234.0         94            4.3      3         0  \n",
       "1          93.6         62            5.8      2         0  \n",
       "2         133.2         60            7.0      3         0  \n",
       "3          75.6         82            3.6      2         1  \n",
       "4         223.2         92            5.0      3         0  "
      ]
     },
     "execution_count": 3,
     "metadata": {},
     "output_type": "execute_result"
    }
   ],
   "source": [
    "df.head()"
   ]
  },
  {
   "cell_type": "markdown",
   "metadata": {},
   "source": [
    "#### Number of Rows and Columns of the dataset"
   ]
  },
  {
   "cell_type": "code",
   "execution_count": 4,
   "metadata": {},
   "outputs": [
    {
     "name": "stdout",
     "output_type": "stream",
     "text": [
      "Row=271, Column=17\n"
     ]
    }
   ],
   "source": [
    "print(f'Row={df.shape[0]}, Column={df.shape[1]}')"
   ]
  },
  {
   "cell_type": "markdown",
   "metadata": {},
   "source": [
    "#### Analysing the data"
   ]
  },
  {
   "cell_type": "code",
   "execution_count": 5,
   "metadata": {},
   "outputs": [
    {
     "data": {
      "text/html": [
       "<div>\n",
       "<style scoped>\n",
       "    .dataframe tbody tr th:only-of-type {\n",
       "        vertical-align: middle;\n",
       "    }\n",
       "\n",
       "    .dataframe tbody tr th {\n",
       "        vertical-align: top;\n",
       "    }\n",
       "\n",
       "    .dataframe thead th {\n",
       "        text-align: right;\n",
       "    }\n",
       "</style>\n",
       "<table border=\"1\" class=\"dataframe\">\n",
       "  <thead>\n",
       "    <tr style=\"text-align: right;\">\n",
       "      <th></th>\n",
       "      <th>Age</th>\n",
       "      <th>Gender</th>\n",
       "      <th>Height</th>\n",
       "      <th>Weight</th>\n",
       "      <th>BMI</th>\n",
       "      <th>Waist</th>\n",
       "      <th>Hip</th>\n",
       "      <th>Waist/Hip Ratio</th>\n",
       "      <th>BodyTemperature</th>\n",
       "      <th>SpO2</th>\n",
       "      <th>BloodPressure(sys)</th>\n",
       "      <th>BloodPressure(dia)</th>\n",
       "      <th>BloodGlucose</th>\n",
       "      <th>PulseRate</th>\n",
       "      <th>BloodUricAcid</th>\n",
       "      <th>Color</th>\n",
       "      <th>pressure</th>\n",
       "    </tr>\n",
       "  </thead>\n",
       "  <tbody>\n",
       "    <tr>\n",
       "      <th>count</th>\n",
       "      <td>271.000000</td>\n",
       "      <td>271.000000</td>\n",
       "      <td>271.000000</td>\n",
       "      <td>271.000000</td>\n",
       "      <td>271.000000</td>\n",
       "      <td>271.000000</td>\n",
       "      <td>271.000000</td>\n",
       "      <td>271.000000</td>\n",
       "      <td>271.000000</td>\n",
       "      <td>271.000000</td>\n",
       "      <td>271.000000</td>\n",
       "      <td>271.000000</td>\n",
       "      <td>271.000000</td>\n",
       "      <td>271.000000</td>\n",
       "      <td>271.000000</td>\n",
       "      <td>271.000000</td>\n",
       "      <td>271.000000</td>\n",
       "    </tr>\n",
       "    <tr>\n",
       "      <th>mean</th>\n",
       "      <td>49.605166</td>\n",
       "      <td>0.830258</td>\n",
       "      <td>163.051661</td>\n",
       "      <td>67.521402</td>\n",
       "      <td>25.367011</td>\n",
       "      <td>90.242066</td>\n",
       "      <td>94.538745</td>\n",
       "      <td>0.954834</td>\n",
       "      <td>95.842214</td>\n",
       "      <td>0.992620</td>\n",
       "      <td>0.354244</td>\n",
       "      <td>0.435424</td>\n",
       "      <td>128.012546</td>\n",
       "      <td>80.269373</td>\n",
       "      <td>6.621771</td>\n",
       "      <td>2.937269</td>\n",
       "      <td>0.280443</td>\n",
       "    </tr>\n",
       "    <tr>\n",
       "      <th>std</th>\n",
       "      <td>7.390372</td>\n",
       "      <td>0.376100</td>\n",
       "      <td>7.442564</td>\n",
       "      <td>10.056410</td>\n",
       "      <td>3.201135</td>\n",
       "      <td>7.791515</td>\n",
       "      <td>6.289716</td>\n",
       "      <td>0.050727</td>\n",
       "      <td>3.728073</td>\n",
       "      <td>0.085748</td>\n",
       "      <td>0.479168</td>\n",
       "      <td>0.496730</td>\n",
       "      <td>56.911955</td>\n",
       "      <td>11.656080</td>\n",
       "      <td>1.533746</td>\n",
       "      <td>0.755066</td>\n",
       "      <td>0.450047</td>\n",
       "    </tr>\n",
       "    <tr>\n",
       "      <th>min</th>\n",
       "      <td>34.000000</td>\n",
       "      <td>0.000000</td>\n",
       "      <td>140.000000</td>\n",
       "      <td>44.200000</td>\n",
       "      <td>18.390000</td>\n",
       "      <td>63.600000</td>\n",
       "      <td>80.000000</td>\n",
       "      <td>0.640000</td>\n",
       "      <td>37.580000</td>\n",
       "      <td>0.000000</td>\n",
       "      <td>0.000000</td>\n",
       "      <td>0.000000</td>\n",
       "      <td>66.600000</td>\n",
       "      <td>51.000000</td>\n",
       "      <td>3.100000</td>\n",
       "      <td>1.000000</td>\n",
       "      <td>0.000000</td>\n",
       "    </tr>\n",
       "    <tr>\n",
       "      <th>25%</th>\n",
       "      <td>44.000000</td>\n",
       "      <td>1.000000</td>\n",
       "      <td>158.000000</td>\n",
       "      <td>61.250000</td>\n",
       "      <td>23.265000</td>\n",
       "      <td>85.000000</td>\n",
       "      <td>91.000000</td>\n",
       "      <td>0.930000</td>\n",
       "      <td>95.360000</td>\n",
       "      <td>1.000000</td>\n",
       "      <td>0.000000</td>\n",
       "      <td>0.000000</td>\n",
       "      <td>90.000000</td>\n",
       "      <td>72.000000</td>\n",
       "      <td>5.700000</td>\n",
       "      <td>2.000000</td>\n",
       "      <td>0.000000</td>\n",
       "    </tr>\n",
       "    <tr>\n",
       "      <th>50%</th>\n",
       "      <td>50.000000</td>\n",
       "      <td>1.000000</td>\n",
       "      <td>164.000000</td>\n",
       "      <td>67.500000</td>\n",
       "      <td>25.150000</td>\n",
       "      <td>90.000000</td>\n",
       "      <td>94.000000</td>\n",
       "      <td>0.960000</td>\n",
       "      <td>96.260000</td>\n",
       "      <td>1.000000</td>\n",
       "      <td>0.000000</td>\n",
       "      <td>0.000000</td>\n",
       "      <td>111.600000</td>\n",
       "      <td>80.000000</td>\n",
       "      <td>6.600000</td>\n",
       "      <td>3.000000</td>\n",
       "      <td>0.000000</td>\n",
       "    </tr>\n",
       "    <tr>\n",
       "      <th>75%</th>\n",
       "      <td>55.000000</td>\n",
       "      <td>1.000000</td>\n",
       "      <td>168.000000</td>\n",
       "      <td>73.400000</td>\n",
       "      <td>26.860000</td>\n",
       "      <td>95.000000</td>\n",
       "      <td>98.000000</td>\n",
       "      <td>0.990000</td>\n",
       "      <td>96.800000</td>\n",
       "      <td>1.000000</td>\n",
       "      <td>1.000000</td>\n",
       "      <td>1.000000</td>\n",
       "      <td>142.200000</td>\n",
       "      <td>88.000000</td>\n",
       "      <td>7.600000</td>\n",
       "      <td>3.000000</td>\n",
       "      <td>1.000000</td>\n",
       "    </tr>\n",
       "    <tr>\n",
       "      <th>max</th>\n",
       "      <td>77.000000</td>\n",
       "      <td>1.000000</td>\n",
       "      <td>184.000000</td>\n",
       "      <td>114.400000</td>\n",
       "      <td>40.530000</td>\n",
       "      <td>118.000000</td>\n",
       "      <td>127.000000</td>\n",
       "      <td>1.110000</td>\n",
       "      <td>98.420000</td>\n",
       "      <td>1.000000</td>\n",
       "      <td>1.000000</td>\n",
       "      <td>1.000000</td>\n",
       "      <td>392.400000</td>\n",
       "      <td>123.000000</td>\n",
       "      <td>11.000000</td>\n",
       "      <td>4.000000</td>\n",
       "      <td>1.000000</td>\n",
       "    </tr>\n",
       "  </tbody>\n",
       "</table>\n",
       "</div>"
      ],
      "text/plain": [
       "             Age       Gender      Height      Weight         BMI       Waist  \\\n",
       "count  271.000000  271.000000  271.000000  271.000000  271.000000  271.000000   \n",
       "mean    49.605166    0.830258  163.051661   67.521402   25.367011   90.242066   \n",
       "std      7.390372    0.376100    7.442564   10.056410    3.201135    7.791515   \n",
       "min     34.000000    0.000000  140.000000   44.200000   18.390000   63.600000   \n",
       "25%     44.000000    1.000000  158.000000   61.250000   23.265000   85.000000   \n",
       "50%     50.000000    1.000000  164.000000   67.500000   25.150000   90.000000   \n",
       "75%     55.000000    1.000000  168.000000   73.400000   26.860000   95.000000   \n",
       "max     77.000000    1.000000  184.000000  114.400000   40.530000  118.000000   \n",
       "\n",
       "              Hip  Waist/Hip Ratio  BodyTemperature        SpO2  \\\n",
       "count  271.000000       271.000000       271.000000  271.000000   \n",
       "mean    94.538745         0.954834        95.842214    0.992620   \n",
       "std      6.289716         0.050727         3.728073    0.085748   \n",
       "min     80.000000         0.640000        37.580000    0.000000   \n",
       "25%     91.000000         0.930000        95.360000    1.000000   \n",
       "50%     94.000000         0.960000        96.260000    1.000000   \n",
       "75%     98.000000         0.990000        96.800000    1.000000   \n",
       "max    127.000000         1.110000        98.420000    1.000000   \n",
       "\n",
       "       BloodPressure(sys)  BloodPressure(dia)  BloodGlucose   PulseRate  \\\n",
       "count          271.000000          271.000000    271.000000  271.000000   \n",
       "mean             0.354244            0.435424    128.012546   80.269373   \n",
       "std              0.479168            0.496730     56.911955   11.656080   \n",
       "min              0.000000            0.000000     66.600000   51.000000   \n",
       "25%              0.000000            0.000000     90.000000   72.000000   \n",
       "50%              0.000000            0.000000    111.600000   80.000000   \n",
       "75%              1.000000            1.000000    142.200000   88.000000   \n",
       "max              1.000000            1.000000    392.400000  123.000000   \n",
       "\n",
       "       BloodUricAcid       Color    pressure  \n",
       "count     271.000000  271.000000  271.000000  \n",
       "mean        6.621771    2.937269    0.280443  \n",
       "std         1.533746    0.755066    0.450047  \n",
       "min         3.100000    1.000000    0.000000  \n",
       "25%         5.700000    2.000000    0.000000  \n",
       "50%         6.600000    3.000000    0.000000  \n",
       "75%         7.600000    3.000000    1.000000  \n",
       "max        11.000000    4.000000    1.000000  "
      ]
     },
     "execution_count": 5,
     "metadata": {},
     "output_type": "execute_result"
    }
   ],
   "source": [
    "# get statistical measures of this dataframe\n",
    "df.describe()"
   ]
  },
  {
   "cell_type": "code",
   "execution_count": 21,
   "metadata": {},
   "outputs": [
    {
     "data": {
      "text/plain": [
       "<seaborn.axisgrid.FacetGrid at 0x1dc809dafd0>"
      ]
     },
     "execution_count": 21,
     "metadata": {},
     "output_type": "execute_result"
    },
    {
     "data": {
      "image/png": "[encoded data removed]",
      "text/plain": [
       "<Figure size 360x360 with 1 Axes>"
      ]
     },
     "metadata": {
      "needs_background": "light"
     },
     "output_type": "display_data"
    }
   ],
   "source": [
    "# number of values for each values\n",
    "legend_labels  = ['Healthy', 'Suspicious', 'Affected', 'Emergent']\n",
    "sns.catplot(x='Color', data=df, kind = 'count', palette={1:\"green\", 2:\"yellow\", 3:'orange', 4:'red'}, legend=True).set_xticklabels(legend_labels)"
   ]
  },
  {
   "cell_type": "markdown",
   "metadata": {},
   "source": [
    "1 --> Green\n",
    "\n",
    "2 --> Yellow\n",
    "\n",
    "3 --> Orange\n",
    "\n",
    "4 --> Red"
   ]
  },
  {
   "cell_type": "code",
   "execution_count": 7,
   "metadata": {},
   "outputs": [
    {
     "data": {
      "text/html": [
       "<div>\n",
       "<style scoped>\n",
       "    .dataframe tbody tr th:only-of-type {\n",
       "        vertical-align: middle;\n",
       "    }\n",
       "\n",
       "    .dataframe tbody tr th {\n",
       "        vertical-align: top;\n",
       "    }\n",
       "\n",
       "    .dataframe thead th {\n",
       "        text-align: right;\n",
       "    }\n",
       "</style>\n",
       "<table border=\"1\" class=\"dataframe\">\n",
       "  <thead>\n",
       "    <tr style=\"text-align: right;\">\n",
       "      <th></th>\n",
       "      <th>Age</th>\n",
       "      <th>Gender</th>\n",
       "      <th>Height</th>\n",
       "      <th>Weight</th>\n",
       "      <th>BMI</th>\n",
       "      <th>Waist</th>\n",
       "      <th>Hip</th>\n",
       "      <th>Waist/Hip Ratio</th>\n",
       "      <th>BodyTemperature</th>\n",
       "      <th>SpO2</th>\n",
       "      <th>BloodPressure(sys)</th>\n",
       "      <th>BloodPressure(dia)</th>\n",
       "      <th>BloodGlucose</th>\n",
       "      <th>PulseRate</th>\n",
       "      <th>BloodUricAcid</th>\n",
       "      <th>pressure</th>\n",
       "    </tr>\n",
       "    <tr>\n",
       "      <th>Color</th>\n",
       "      <th></th>\n",
       "      <th></th>\n",
       "      <th></th>\n",
       "      <th></th>\n",
       "      <th></th>\n",
       "      <th></th>\n",
       "      <th></th>\n",
       "      <th></th>\n",
       "      <th></th>\n",
       "      <th></th>\n",
       "      <th></th>\n",
       "      <th></th>\n",
       "      <th></th>\n",
       "      <th></th>\n",
       "      <th></th>\n",
       "      <th></th>\n",
       "    </tr>\n",
       "  </thead>\n",
       "  <tbody>\n",
       "    <tr>\n",
       "      <th>1</th>\n",
       "      <td>43.000000</td>\n",
       "      <td>1.000000</td>\n",
       "      <td>160.000000</td>\n",
       "      <td>59.550000</td>\n",
       "      <td>23.145000</td>\n",
       "      <td>79.00000</td>\n",
       "      <td>89.500000</td>\n",
       "      <td>0.880000</td>\n",
       "      <td>95.450000</td>\n",
       "      <td>1.000000</td>\n",
       "      <td>0.500000</td>\n",
       "      <td>0.000000</td>\n",
       "      <td>108.000000</td>\n",
       "      <td>66.000000</td>\n",
       "      <td>5.000000</td>\n",
       "      <td>0.000000</td>\n",
       "    </tr>\n",
       "    <tr>\n",
       "      <th>2</th>\n",
       "      <td>48.162500</td>\n",
       "      <td>0.862500</td>\n",
       "      <td>163.875000</td>\n",
       "      <td>66.701250</td>\n",
       "      <td>24.813125</td>\n",
       "      <td>89.13750</td>\n",
       "      <td>93.937500</td>\n",
       "      <td>0.949375</td>\n",
       "      <td>96.235250</td>\n",
       "      <td>1.000000</td>\n",
       "      <td>0.412500</td>\n",
       "      <td>0.612500</td>\n",
       "      <td>105.142500</td>\n",
       "      <td>79.737500</td>\n",
       "      <td>5.786250</td>\n",
       "      <td>0.362500</td>\n",
       "    </tr>\n",
       "    <tr>\n",
       "      <th>3</th>\n",
       "      <td>50.319672</td>\n",
       "      <td>0.844262</td>\n",
       "      <td>162.934426</td>\n",
       "      <td>67.154098</td>\n",
       "      <td>25.281066</td>\n",
       "      <td>89.97541</td>\n",
       "      <td>94.147541</td>\n",
       "      <td>0.956230</td>\n",
       "      <td>95.541475</td>\n",
       "      <td>0.991803</td>\n",
       "      <td>0.286885</td>\n",
       "      <td>0.311475</td>\n",
       "      <td>134.940984</td>\n",
       "      <td>81.311475</td>\n",
       "      <td>6.370492</td>\n",
       "      <td>0.213115</td>\n",
       "    </tr>\n",
       "    <tr>\n",
       "      <th>4</th>\n",
       "      <td>50.223881</td>\n",
       "      <td>0.761194</td>\n",
       "      <td>162.373134</td>\n",
       "      <td>69.407463</td>\n",
       "      <td>26.251194</td>\n",
       "      <td>92.38209</td>\n",
       "      <td>96.119403</td>\n",
       "      <td>0.961045</td>\n",
       "      <td>95.932239</td>\n",
       "      <td>0.985075</td>\n",
       "      <td>0.402985</td>\n",
       "      <td>0.462687</td>\n",
       "      <td>143.301493</td>\n",
       "      <td>79.432836</td>\n",
       "      <td>8.125373</td>\n",
       "      <td>0.313433</td>\n",
       "    </tr>\n",
       "  </tbody>\n",
       "</table>\n",
       "</div>"
      ],
      "text/plain": [
       "            Age     Gender      Height     Weight        BMI     Waist  \\\n",
       "Color                                                                    \n",
       "1      43.000000  1.000000  160.000000  59.550000  23.145000  79.00000   \n",
       "2      48.162500  0.862500  163.875000  66.701250  24.813125  89.13750   \n",
       "3      50.319672  0.844262  162.934426  67.154098  25.281066  89.97541   \n",
       "4      50.223881  0.761194  162.373134  69.407463  26.251194  92.38209   \n",
       "\n",
       "             Hip  Waist/Hip Ratio  BodyTemperature      SpO2  \\\n",
       "Color                                                          \n",
       "1      89.500000         0.880000        95.450000  1.000000   \n",
       "2      93.937500         0.949375        96.235250  1.000000   \n",
       "3      94.147541         0.956230        95.541475  0.991803   \n",
       "4      96.119403         0.961045        95.932239  0.985075   \n",
       "\n",
       "       BloodPressure(sys)  BloodPressure(dia)  BloodGlucose  PulseRate  \\\n",
       "Color                                                                    \n",
       "1                0.500000            0.000000    108.000000  66.000000   \n",
       "2                0.412500            0.612500    105.142500  79.737500   \n",
       "3                0.286885            0.311475    134.940984  81.311475   \n",
       "4                0.402985            0.462687    143.301493  79.432836   \n",
       "\n",
       "       BloodUricAcid  pressure  \n",
       "Color                           \n",
       "1           5.000000  0.000000  \n",
       "2           5.786250  0.362500  \n",
       "3           6.370492  0.213115  \n",
       "4           8.125373  0.313433  "
      ]
     },
     "execution_count": 7,
     "metadata": {},
     "output_type": "execute_result"
    }
   ],
   "source": [
    "df.groupby('Color').mean()"
   ]
  },
  {
   "cell_type": "code",
   "execution_count": 8,
   "metadata": {},
   "outputs": [],
   "source": [
    "# seperating data and labels\n",
    "df = df.dropna()\n",
    "# data = df.drop(['Color', 'blood_hemoglobin'], axis=1)\n",
    "data = df.drop(['Color', 'Height', 'Weight', 'Hip', 'BloodPressure(sys)', 'BloodPressure(dia)'], axis=1)\n",
    "\n",
    "label = df.Color"
   ]
  },
  {
   "cell_type": "markdown",
   "metadata": {},
   "source": [
    "### Data Standardization"
   ]
  },
  {
   "cell_type": "code",
   "execution_count": null,
   "metadata": {},
   "outputs": [],
   "source": []
  },
  {
   "cell_type": "code",
   "execution_count": null,
   "metadata": {},
   "outputs": [],
   "source": []
  },
  {
   "cell_type": "markdown",
   "metadata": {},
   "source": [
    "### Training and Testing Data Split"
   ]
  },
  {
   "cell_type": "code",
   "execution_count": 9,
   "metadata": {},
   "outputs": [],
   "source": [
    "data_train, data_test, label_train, label_test = train_test_split(data, label, test_size=0.2, stratify=label, random_state=1)"
   ]
  },
  {
   "cell_type": "code",
   "execution_count": 10,
   "metadata": {},
   "outputs": [
    {
     "name": "stdout",
     "output_type": "stream",
     "text": [
      "(271, 11) (216, 11) (55, 11)\n"
     ]
    }
   ],
   "source": [
    "# data scaling\n",
    "sc = StandardScaler()\n",
    "data_train = sc.fit_transform(data_train)\n",
    "data_test = sc.transform(data_test)\n",
    "print(data.shape ,data_train.shape, data_test.shape)"
   ]
  },
  {
   "cell_type": "markdown",
   "metadata": {},
   "source": [
    "### Training The Model"
   ]
  },
  {
   "cell_type": "code",
   "execution_count": 11,
   "metadata": {},
   "outputs": [],
   "source": [
    "# loading model\n",
    "classifier = svm.SVC(kernel = 'linear')"
   ]
  },
  {
   "cell_type": "code",
   "execution_count": 12,
   "metadata": {},
   "outputs": [
    {
     "data": {
      "text/plain": [
       "SVC(kernel='linear')"
      ]
     },
     "execution_count": 12,
     "metadata": {},
     "output_type": "execute_result"
    }
   ],
   "source": [
    "# training the SVM Classifier\n",
    "\n",
    "classifier.fit(data_train, label_train)"
   ]
  },
  {
   "cell_type": "markdown",
   "metadata": {},
   "source": [
    "### Model Evaluation"
   ]
  },
  {
   "cell_type": "markdown",
   "metadata": {},
   "source": [
    "#### Finding the accuracy score"
   ]
  },
  {
   "cell_type": "code",
   "execution_count": 13,
   "metadata": {},
   "outputs": [
    {
     "name": "stdout",
     "output_type": "stream",
     "text": [
      "0.7685185185185185\n"
     ]
    }
   ],
   "source": [
    "# accuracy score on the training data\n",
    "data_train_prediction = classifier.predict(data_train)\n",
    "data_train_accuracy = accuracy_score(data_train_prediction, label_train)\n",
    "print(data_train_accuracy)"
   ]
  },
  {
   "cell_type": "code",
   "execution_count": 14,
   "metadata": {},
   "outputs": [
    {
     "name": "stdout",
     "output_type": "stream",
     "text": [
      "67.27\n"
     ]
    }
   ],
   "source": [
    "# accuracy score on the testing data\n",
    "data_test_prediction = classifier.predict(data_test)\n",
    "data_test_accuracy = accuracy_score(data_test_prediction, label_test)\n",
    "print(round(data_test_accuracy*100,2))"
   ]
  },
  {
   "cell_type": "markdown",
   "metadata": {},
   "source": [
    "### Making Predictive System"
   ]
  },
  {
   "cell_type": "code",
   "execution_count": 15,
   "metadata": {},
   "outputs": [],
   "source": [
    "# input_data = (-0.65831098, -0.40905835,  2.4784788 ,  0.59274898, -0.83205029,\n",
    "#         0.88968025, -0.85096294, -0.21821789,  2.4784788 , -0.14285714,\n",
    "#        -0.74654051,  1.23812892,  0.33333333, -0.81415234,  0.32539569,\n",
    "#         0.63599873, -0.57206323,  0.11299412, -1.14203056, -0.44492793,\n",
    "#        -0.62279395, -0.92812321, -0.14285714, -0.14285714, -0.09712859,\n",
    "#         2.55188353, -0.97834288)\n",
    "\n",
    "# # changing the input_data to numpy array\n",
    "# input_to_numpy = np.asarray(input_data)\n",
    "\n",
    "# # reshaping input_to_numpy \n",
    "# input_reshaped = input_to_numpy.reshape(1, -1)\n",
    "\n",
    "# #standardize the input_data\n",
    "# std_data = scaler.transform(input_reshaped)\n",
    "# print(std_data)"
   ]
  },
  {
   "cell_type": "code",
   "execution_count": 16,
   "metadata": {},
   "outputs": [],
   "source": [
    "# #prediction\n",
    "\n",
    "# prediction = classifier.predict(std_data)\n",
    "# if(prediction[0] == 1):\n",
    "#     print('Green')\n",
    "    \n",
    "# elif(prediction[0] == 2):\n",
    "#     print('Yellow')\n",
    "    \n",
    "# elif(prediction[0] == 3):\n",
    "#     print('Orange')\n",
    "\n",
    "# else:\n",
    "#     print('Red')\n",
    "    \n",
    "# print(prediction)"
   ]
  },
  {
   "cell_type": "code",
   "execution_count": null,
   "metadata": {},
   "outputs": [],
   "source": []
  },
  {
   "cell_type": "code",
   "execution_count": null,
   "metadata": {},
   "outputs": [],
   "source": []
  }
 ],
 "metadata": {
  "kernelspec": {
   "display_name": "Python 3",
   "language": "python",
   "name": "python3"
  },
  "language_info": {
   "codemirror_mode": {
    "name": "ipython",
    "version": 3
   },
   "file_extension": ".py",
   "mimetype": "text/x-python",
   "name": "python",
   "nbconvert_exporter": "python",
   "pygments_lexer": "ipython3",
   "version": "3.8.5"
  }
 },
 "nbformat": 4,
 "nbformat_minor": 5
}
