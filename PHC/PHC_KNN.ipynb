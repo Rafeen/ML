{
 "cells": [
  {
   "cell_type": "code",
   "execution_count": 12,
   "metadata": {},
   "outputs": [],
   "source": [
    "import os\n",
    "import numpy as np\n",
    "from sklearn import preprocessing, neighbors\n",
    "from sklearn.model_selection import train_test_split \n",
    "from sklearn import metrics\n",
    "import pandas as pd\n",
    "\n",
    "# for min_max scaling\n",
    "from sklearn.preprocessing import MinMaxScaler\n",
    "\n",
    "# for Box-Cox Transformation\n",
    "from scipy import stats\n",
    "\n",
    "# plotting modules\n",
    "import seaborn as sns\n",
    "import matplotlib.pyplot as plt"
   ]
  },
  {
   "cell_type": "markdown",
   "metadata": {},
   "source": [
    "### load data"
   ]
  },
  {
   "cell_type": "code",
   "execution_count": 33,
   "metadata": {},
   "outputs": [
    {
     "data": {
      "text/html": [
       "<div>\n",
       "<style scoped>\n",
       "    .dataframe tbody tr th:only-of-type {\n",
       "        vertical-align: middle;\n",
       "    }\n",
       "\n",
       "    .dataframe tbody tr th {\n",
       "        vertical-align: top;\n",
       "    }\n",
       "\n",
       "    .dataframe thead th {\n",
       "        text-align: right;\n",
       "    }\n",
       "</style>\n",
       "<table border=\"1\" class=\"dataframe\">\n",
       "  <thead>\n",
       "    <tr style=\"text-align: right;\">\n",
       "      <th></th>\n",
       "      <th>age</th>\n",
       "      <th>gender</th>\n",
       "      <th>limit_diet</th>\n",
       "      <th>gain_10kg</th>\n",
       "      <th>gain_lose_3kg</th>\n",
       "      <th>eat_2h_sleep</th>\n",
       "      <th>soft_drink</th>\n",
       "      <th>fast_food</th>\n",
       "      <th>skip_breakfast</th>\n",
       "      <th>eat_faster</th>\n",
       "      <th>...</th>\n",
       "      <th>bp_dia</th>\n",
       "      <th>blood_glucose</th>\n",
       "      <th>blood_hemoglobin</th>\n",
       "      <th>urinary_glucose</th>\n",
       "      <th>urinary_protein</th>\n",
       "      <th>pulse_rate</th>\n",
       "      <th>uric_acid</th>\n",
       "      <th>health_status</th>\n",
       "      <th>bmi</th>\n",
       "      <th>wh</th>\n",
       "    </tr>\n",
       "  </thead>\n",
       "  <tbody>\n",
       "    <tr>\n",
       "      <th>0</th>\n",
       "      <td>59</td>\n",
       "      <td>1</td>\n",
       "      <td>0</td>\n",
       "      <td>0</td>\n",
       "      <td>0</td>\n",
       "      <td>0</td>\n",
       "      <td>0</td>\n",
       "      <td>0</td>\n",
       "      <td>1</td>\n",
       "      <td>0</td>\n",
       "      <td>...</td>\n",
       "      <td>78</td>\n",
       "      <td>234.0</td>\n",
       "      <td>NaN</td>\n",
       "      <td>0</td>\n",
       "      <td>0</td>\n",
       "      <td>94</td>\n",
       "      <td>4.3</td>\n",
       "      <td>3</td>\n",
       "      <td>20.85</td>\n",
       "      <td>1.06</td>\n",
       "    </tr>\n",
       "    <tr>\n",
       "      <th>1</th>\n",
       "      <td>60</td>\n",
       "      <td>1</td>\n",
       "      <td>1</td>\n",
       "      <td>1</td>\n",
       "      <td>0</td>\n",
       "      <td>1</td>\n",
       "      <td>0</td>\n",
       "      <td>0</td>\n",
       "      <td>0</td>\n",
       "      <td>1</td>\n",
       "      <td>...</td>\n",
       "      <td>67</td>\n",
       "      <td>93.6</td>\n",
       "      <td>NaN</td>\n",
       "      <td>0</td>\n",
       "      <td>0</td>\n",
       "      <td>62</td>\n",
       "      <td>5.8</td>\n",
       "      <td>2</td>\n",
       "      <td>27.48</td>\n",
       "      <td>0.96</td>\n",
       "    </tr>\n",
       "    <tr>\n",
       "      <th>2</th>\n",
       "      <td>58</td>\n",
       "      <td>1</td>\n",
       "      <td>1</td>\n",
       "      <td>1</td>\n",
       "      <td>1</td>\n",
       "      <td>1</td>\n",
       "      <td>0</td>\n",
       "      <td>0</td>\n",
       "      <td>0</td>\n",
       "      <td>1</td>\n",
       "      <td>...</td>\n",
       "      <td>81</td>\n",
       "      <td>133.2</td>\n",
       "      <td>NaN</td>\n",
       "      <td>0</td>\n",
       "      <td>0</td>\n",
       "      <td>60</td>\n",
       "      <td>7.0</td>\n",
       "      <td>3</td>\n",
       "      <td>31.12</td>\n",
       "      <td>0.99</td>\n",
       "    </tr>\n",
       "    <tr>\n",
       "      <th>3</th>\n",
       "      <td>50</td>\n",
       "      <td>2</td>\n",
       "      <td>1</td>\n",
       "      <td>0</td>\n",
       "      <td>0</td>\n",
       "      <td>1</td>\n",
       "      <td>1</td>\n",
       "      <td>0</td>\n",
       "      <td>0</td>\n",
       "      <td>0</td>\n",
       "      <td>...</td>\n",
       "      <td>65</td>\n",
       "      <td>75.6</td>\n",
       "      <td>10.9</td>\n",
       "      <td>0</td>\n",
       "      <td>0</td>\n",
       "      <td>82</td>\n",
       "      <td>3.6</td>\n",
       "      <td>2</td>\n",
       "      <td>22.05</td>\n",
       "      <td>0.85</td>\n",
       "    </tr>\n",
       "    <tr>\n",
       "      <th>4</th>\n",
       "      <td>56</td>\n",
       "      <td>1</td>\n",
       "      <td>1</td>\n",
       "      <td>0</td>\n",
       "      <td>0</td>\n",
       "      <td>1</td>\n",
       "      <td>0</td>\n",
       "      <td>0</td>\n",
       "      <td>0</td>\n",
       "      <td>1</td>\n",
       "      <td>...</td>\n",
       "      <td>98</td>\n",
       "      <td>223.2</td>\n",
       "      <td>NaN</td>\n",
       "      <td>0</td>\n",
       "      <td>0</td>\n",
       "      <td>92</td>\n",
       "      <td>5.0</td>\n",
       "      <td>3</td>\n",
       "      <td>25.35</td>\n",
       "      <td>0.96</td>\n",
       "    </tr>\n",
       "  </tbody>\n",
       "</table>\n",
       "<p>5 rows × 28 columns</p>\n",
       "</div>"
      ],
      "text/plain": [
       "   age  gender  limit_diet  gain_10kg  gain_lose_3kg  eat_2h_sleep  \\\n",
       "0   59       1           0          0              0             0   \n",
       "1   60       1           1          1              0             1   \n",
       "2   58       1           1          1              1             1   \n",
       "3   50       2           1          0              0             1   \n",
       "4   56       1           1          0              0             1   \n",
       "\n",
       "   soft_drink  fast_food  skip_breakfast  eat_faster  ...  bp_dia  \\\n",
       "0           0          0               1           0  ...      78   \n",
       "1           0          0               0           1  ...      67   \n",
       "2           0          0               0           1  ...      81   \n",
       "3           1          0               0           0  ...      65   \n",
       "4           0          0               0           1  ...      98   \n",
       "\n",
       "   blood_glucose  blood_hemoglobin  urinary_glucose  urinary_protein  \\\n",
       "0          234.0               NaN                0                0   \n",
       "1           93.6               NaN                0                0   \n",
       "2          133.2               NaN                0                0   \n",
       "3           75.6              10.9                0                0   \n",
       "4          223.2               NaN                0                0   \n",
       "\n",
       "   pulse_rate  uric_acid  health_status    bmi    wh  \n",
       "0          94        4.3              3  20.85  1.06  \n",
       "1          62        5.8              2  27.48  0.96  \n",
       "2          60        7.0              3  31.12  0.99  \n",
       "3          82        3.6              2  22.05  0.85  \n",
       "4          92        5.0              3  25.35  0.96  \n",
       "\n",
       "[5 rows x 28 columns]"
      ]
     },
     "execution_count": 33,
     "metadata": {},
     "output_type": "execute_result"
    }
   ],
   "source": [
    "df = pd.read_csv('dataset/cleaned_data.csv', index_col=0)\n",
    "df.head()"
   ]
  },
  {
   "cell_type": "markdown",
   "metadata": {},
   "source": [
    "### Data Processing and cleaning"
   ]
  },
  {
   "cell_type": "code",
   "execution_count": 34,
   "metadata": {},
   "outputs": [],
   "source": [
    "# replacing missing parameters with a null\n",
    "df.replace('?', np.nan , inplace=True)\n",
    "df.isna().sum()\n",
    "\n",
    "df.dropna()\n",
    "\n",
    "# replacing missing null with a value -9999\n",
    "df.replace(np.nan, -99999, inplace=True)"
   ]
  },
  {
   "cell_type": "code",
   "execution_count": 35,
   "metadata": {},
   "outputs": [],
   "source": [
    "# seperating features and calss\n",
    "features = df.drop(['health_status', 'blood_hemoglobin'], axis=1)\n",
    "label = df['health_status']"
   ]
  },
  {
   "cell_type": "code",
   "execution_count": 36,
   "metadata": {},
   "outputs": [],
   "source": [
    "#data scaling\n",
    "\n",
    "# scaler = MinMaxScaler()\n",
    "# scaler.fit(features)\n",
    "# scaled_data = scaler.transform(features)\n",
    "\n",
    "# # plot both together to compare\n",
    "# fig, ax=plt.subplots(1,2)\n",
    "# sns.distplot(features, ax=ax[0])\n",
    "# ax[0].set_title(\"Original Data\")\n",
    "# sns.distplot(scaled_data, ax=ax[1])\n",
    "# ax[1].set_title(\"Scaled data\")"
   ]
  },
  {
   "cell_type": "code",
   "execution_count": 37,
   "metadata": {},
   "outputs": [],
   "source": [
    "#convertng numpy array to pandas dataframe\n",
    "# columns = list(features.columns.values)\n",
    "# features = pd.DataFrame(scaled_data, \n",
    "#              columns=columns)"
   ]
  },
  {
   "cell_type": "code",
   "execution_count": 38,
   "metadata": {},
   "outputs": [],
   "source": [
    "# splitting training and test data\n",
    "x_train, x_test, y_train, y_test = train_test_split(features, label, test_size=0.1, random_state=2)"
   ]
  },
  {
   "cell_type": "code",
   "execution_count": 39,
   "metadata": {},
   "outputs": [
    {
     "name": "stdout",
     "output_type": "stream",
     "text": [
      "(50, 26) (45, 26) (5, 26)\n"
     ]
    }
   ],
   "source": [
    "# printing the shape of data\n",
    "print(features.shape, x_train.shape, x_test.shape)"
   ]
  },
  {
   "cell_type": "markdown",
   "metadata": {},
   "source": [
    "### Loading Classifier\n",
    "#### K nearest neighbor"
   ]
  },
  {
   "cell_type": "code",
   "execution_count": 40,
   "metadata": {},
   "outputs": [],
   "source": [
    "clf = neighbors.KNeighborsClassifier()"
   ]
  },
  {
   "cell_type": "code",
   "execution_count": 41,
   "metadata": {},
   "outputs": [
    {
     "data": {
      "text/plain": [
       "KNeighborsClassifier()"
      ]
     },
     "execution_count": 41,
     "metadata": {},
     "output_type": "execute_result"
    }
   ],
   "source": [
    "# training the classifier\n",
    "clf.fit(x_train, y_train)"
   ]
  },
  {
   "cell_type": "code",
   "execution_count": 42,
   "metadata": {},
   "outputs": [
    {
     "name": "stdout",
     "output_type": "stream",
     "text": [
      "20.0 %\n"
     ]
    }
   ],
   "source": [
    "# getting accuracy score for training data\n",
    "accuracy = clf.score(x_test, y_test)\n",
    "print(round(accuracy*100,2),'%')"
   ]
  }
 ],
 "metadata": {
  "kernelspec": {
   "display_name": "Python 3",
   "language": "python",
   "name": "python3"
  },
  "language_info": {
   "codemirror_mode": {
    "name": "ipython",
    "version": 3
   },
   "file_extension": ".py",
   "mimetype": "text/x-python",
   "name": "python",
   "nbconvert_exporter": "python",
   "pygments_lexer": "ipython3",
   "version": "3.8.5"
  }
 },
 "nbformat": 4,
 "nbformat_minor": 4
}
