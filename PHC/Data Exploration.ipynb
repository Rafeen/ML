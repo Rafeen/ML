{
 "cells": [
  {
   "cell_type": "markdown",
   "metadata": {},
   "source": [
    "### Imports"
   ]
  },
  {
   "cell_type": "code",
   "execution_count": 1,
   "metadata": {},
   "outputs": [],
   "source": [
    "import os\n",
    "import numpy as np\n",
    "import pandas as pd\n",
    "\n",
    "# plotting modules\n",
    "import seaborn as sns\n",
    "sns.set_theme(style=\"darkgrid\")\n",
    "import matplotlib.pyplot as plt"
   ]
  },
  {
   "cell_type": "markdown",
   "metadata": {},
   "source": [
    "### Load Data"
   ]
  },
  {
   "cell_type": "code",
   "execution_count": 10,
   "metadata": {},
   "outputs": [],
   "source": [
    "df_raw = pd.read_excel('dataset/all_phase_data.xlsx')\n",
    "df_clean = pd.read_csv('dataset/clean_sample_data.csv', index_col=0)"
   ]
  },
  {
   "cell_type": "markdown",
   "metadata": {},
   "source": [
    "### Preview data and shape"
   ]
  },
  {
   "cell_type": "code",
   "execution_count": 11,
   "metadata": {},
   "outputs": [
    {
     "data": {
      "text/html": [
       "<div>\n",
       "<style scoped>\n",
       "    .dataframe tbody tr th:only-of-type {\n",
       "        vertical-align: middle;\n",
       "    }\n",
       "\n",
       "    .dataframe tbody tr th {\n",
       "        vertical-align: top;\n",
       "    }\n",
       "\n",
       "    .dataframe thead th {\n",
       "        text-align: right;\n",
       "    }\n",
       "</style>\n",
       "<table border=\"1\" class=\"dataframe\">\n",
       "  <thead>\n",
       "    <tr style=\"text-align: right;\">\n",
       "      <th></th>\n",
       "      <th>SL</th>\n",
       "      <th>Bar code Id</th>\n",
       "      <th>Age</th>\n",
       "      <th>Gender</th>\n",
       "      <th>Company Name</th>\n",
       "      <th>1. What is your occupation?</th>\n",
       "      <th>2. What education did you complete?</th>\n",
       "      <th>3. Can you read Bangla?</th>\n",
       "      <th>4. What is your marital status?</th>\n",
       "      <th>5. What is your monthly family expenditure?</th>\n",
       "      <th>...</th>\n",
       "      <th>5-38. PHC system is workable to prevent NCD diseases..2</th>\n",
       "      <th>5-39. Using PHC system is a good idea..2</th>\n",
       "      <th>5-40. I feel good to receive PHC service..2</th>\n",
       "      <th>5-41. I intend to use PHC system in the future..2</th>\n",
       "      <th>5-42. If PHC system is available, I will always use it..2</th>\n",
       "      <th>5-43. It is worth to receive PHC service..2</th>\n",
       "      <th>5-44. PHC system is a pleasant experience..2</th>\n",
       "      <th>5-45. I spend time to know about PHC system..2</th>\n",
       "      <th>5-46. Using PHC system causes many advantages..2</th>\n",
       "      <th>5-47. I like to use PHC system..2</th>\n",
       "    </tr>\n",
       "  </thead>\n",
       "  <tbody>\n",
       "    <tr>\n",
       "      <th>0</th>\n",
       "      <td>215</td>\n",
       "      <td>1000236740</td>\n",
       "      <td>56</td>\n",
       "      <td>Female</td>\n",
       "      <td>Grameen Bank</td>\n",
       "      <td>Autonomous</td>\n",
       "      <td>7. Higher (Master or Doctor) completed</td>\n",
       "      <td>3. Yes</td>\n",
       "      <td>2. Current married or living together</td>\n",
       "      <td>5. Taka 50,001 or more</td>\n",
       "      <td>...</td>\n",
       "      <td>5.0</td>\n",
       "      <td>5.0</td>\n",
       "      <td>5.0</td>\n",
       "      <td>5.0</td>\n",
       "      <td>5.0</td>\n",
       "      <td>5.0</td>\n",
       "      <td>4.0</td>\n",
       "      <td>4.0</td>\n",
       "      <td>5.0</td>\n",
       "      <td>5.0</td>\n",
       "    </tr>\n",
       "    <tr>\n",
       "      <th>1</th>\n",
       "      <td>116</td>\n",
       "      <td>1001011776</td>\n",
       "      <td>51</td>\n",
       "      <td>Female</td>\n",
       "      <td>Grameen Bank</td>\n",
       "      <td>Autonomous</td>\n",
       "      <td>4. High school completed</td>\n",
       "      <td>3. Yes</td>\n",
       "      <td>2. Current married or living together</td>\n",
       "      <td>5. Taka 50,001 or more</td>\n",
       "      <td>...</td>\n",
       "      <td>5.0</td>\n",
       "      <td>5.0</td>\n",
       "      <td>5.0</td>\n",
       "      <td>5.0</td>\n",
       "      <td>4.0</td>\n",
       "      <td>4.0</td>\n",
       "      <td>3.0</td>\n",
       "      <td>1.0</td>\n",
       "      <td>4.0</td>\n",
       "      <td>5.0</td>\n",
       "    </tr>\n",
       "    <tr>\n",
       "      <th>2</th>\n",
       "      <td>39</td>\n",
       "      <td>1001014480</td>\n",
       "      <td>60</td>\n",
       "      <td>Male</td>\n",
       "      <td>Grameen Bank</td>\n",
       "      <td>Autonomous</td>\n",
       "      <td>7. Higher (Master or Doctor) completed</td>\n",
       "      <td>3. Yes</td>\n",
       "      <td>2. Current married or living together</td>\n",
       "      <td>5. Taka 50,001 or more</td>\n",
       "      <td>...</td>\n",
       "      <td>5.0</td>\n",
       "      <td>5.0</td>\n",
       "      <td>5.0</td>\n",
       "      <td>5.0</td>\n",
       "      <td>5.0</td>\n",
       "      <td>5.0</td>\n",
       "      <td>5.0</td>\n",
       "      <td>3.0</td>\n",
       "      <td>5.0</td>\n",
       "      <td>5.0</td>\n",
       "    </tr>\n",
       "    <tr>\n",
       "      <th>3</th>\n",
       "      <td>52</td>\n",
       "      <td>1001014482</td>\n",
       "      <td>54</td>\n",
       "      <td>Male</td>\n",
       "      <td>Grameen Bank</td>\n",
       "      <td>Autonomous</td>\n",
       "      <td>3. Secondary school completed</td>\n",
       "      <td>3. Yes</td>\n",
       "      <td>2. Current married or living together</td>\n",
       "      <td>4. Taka 20,001-50,000</td>\n",
       "      <td>...</td>\n",
       "      <td>5.0</td>\n",
       "      <td>5.0</td>\n",
       "      <td>5.0</td>\n",
       "      <td>5.0</td>\n",
       "      <td>5.0</td>\n",
       "      <td>4.0</td>\n",
       "      <td>3.0</td>\n",
       "      <td>1.0</td>\n",
       "      <td>4.0</td>\n",
       "      <td>4.0</td>\n",
       "    </tr>\n",
       "    <tr>\n",
       "      <th>4</th>\n",
       "      <td>75</td>\n",
       "      <td>1000898321</td>\n",
       "      <td>55</td>\n",
       "      <td>Male</td>\n",
       "      <td>Grameen Bank</td>\n",
       "      <td>Autonomous</td>\n",
       "      <td>6. College/University completed</td>\n",
       "      <td>3. Yes</td>\n",
       "      <td>2. Current married or living together</td>\n",
       "      <td>5. Taka 50,001 or more</td>\n",
       "      <td>...</td>\n",
       "      <td>5.0</td>\n",
       "      <td>5.0</td>\n",
       "      <td>5.0</td>\n",
       "      <td>5.0</td>\n",
       "      <td>5.0</td>\n",
       "      <td>5.0</td>\n",
       "      <td>4.0</td>\n",
       "      <td>2.0</td>\n",
       "      <td>4.0</td>\n",
       "      <td>4.0</td>\n",
       "    </tr>\n",
       "  </tbody>\n",
       "</table>\n",
       "<p>5 rows × 286 columns</p>\n",
       "</div>"
      ],
      "text/plain": [
       "    SL  Bar code Id  Age   Gender  Company Name 1. What is your occupation?  \\\n",
       "0  215   1000236740    56  Female  Grameen Bank                 Autonomous    \n",
       "1  116   1001011776    51  Female  Grameen Bank                  Autonomous   \n",
       "2   39   1001014480    60    Male  Grameen Bank                  Autonomous   \n",
       "3   52   1001014482    54    Male  Grameen Bank                  Autonomous   \n",
       "4   75   1000898321    55    Male  Grameen Bank                  Autonomous   \n",
       "\n",
       "      2. What education did you complete? 3. Can you read Bangla?  \\\n",
       "0  7. Higher (Master or Doctor) completed                  3. Yes   \n",
       "1                4. High school completed                  3. Yes   \n",
       "2  7. Higher (Master or Doctor) completed                  3. Yes   \n",
       "3           3. Secondary school completed                  3. Yes   \n",
       "4         6. College/University completed                  3. Yes   \n",
       "\n",
       "         4. What is your marital status?  \\\n",
       "0  2. Current married or living together   \n",
       "1  2. Current married or living together   \n",
       "2  2. Current married or living together   \n",
       "3  2. Current married or living together   \n",
       "4  2. Current married or living together   \n",
       "\n",
       "  5. What is your monthly family expenditure?  ...  \\\n",
       "0                      5. Taka 50,001 or more  ...   \n",
       "1                      5. Taka 50,001 or more  ...   \n",
       "2                      5. Taka 50,001 or more  ...   \n",
       "3                       4. Taka 20,001-50,000  ...   \n",
       "4                      5. Taka 50,001 or more  ...   \n",
       "\n",
       "  5-38. PHC system is workable to prevent NCD diseases..2  \\\n",
       "0                                                5.0        \n",
       "1                                                5.0        \n",
       "2                                                5.0        \n",
       "3                                                5.0        \n",
       "4                                                5.0        \n",
       "\n",
       "  5-39. Using PHC system is a good idea..2  \\\n",
       "0                                      5.0   \n",
       "1                                      5.0   \n",
       "2                                      5.0   \n",
       "3                                      5.0   \n",
       "4                                      5.0   \n",
       "\n",
       "  5-40. I feel good to receive PHC service..2  \\\n",
       "0                                         5.0   \n",
       "1                                         5.0   \n",
       "2                                         5.0   \n",
       "3                                         5.0   \n",
       "4                                         5.0   \n",
       "\n",
       "  5-41. I intend to use PHC system in the future..2  \\\n",
       "0                                               5.0   \n",
       "1                                               5.0   \n",
       "2                                               5.0   \n",
       "3                                               5.0   \n",
       "4                                               5.0   \n",
       "\n",
       "  5-42. If PHC system is available, I will always use it..2  \\\n",
       "0                                                5.0          \n",
       "1                                                4.0          \n",
       "2                                                5.0          \n",
       "3                                                5.0          \n",
       "4                                                5.0          \n",
       "\n",
       "  5-43. It is worth to receive PHC service..2  \\\n",
       "0                                         5.0   \n",
       "1                                         4.0   \n",
       "2                                         5.0   \n",
       "3                                         4.0   \n",
       "4                                         5.0   \n",
       "\n",
       "  5-44. PHC system is a pleasant experience..2  \\\n",
       "0                                          4.0   \n",
       "1                                          3.0   \n",
       "2                                          5.0   \n",
       "3                                          3.0   \n",
       "4                                          4.0   \n",
       "\n",
       "  5-45. I spend time to know about PHC system..2  \\\n",
       "0                                            4.0   \n",
       "1                                            1.0   \n",
       "2                                            3.0   \n",
       "3                                            1.0   \n",
       "4                                            2.0   \n",
       "\n",
       "  5-46. Using PHC system causes many advantages..2  \\\n",
       "0                                              5.0   \n",
       "1                                              4.0   \n",
       "2                                              5.0   \n",
       "3                                              4.0   \n",
       "4                                              4.0   \n",
       "\n",
       "  5-47. I like to use PHC system..2  \n",
       "0                               5.0  \n",
       "1                               5.0  \n",
       "2                               5.0  \n",
       "3                               4.0  \n",
       "4                               4.0  \n",
       "\n",
       "[5 rows x 286 columns]"
      ]
     },
     "execution_count": 11,
     "metadata": {},
     "output_type": "execute_result"
    }
   ],
   "source": [
    "# Preview of raw data\n",
    "df_raw.head(5)"
   ]
  },
  {
   "cell_type": "code",
   "execution_count": 13,
   "metadata": {},
   "outputs": [
    {
     "data": {
      "text/html": [
       "<div>\n",
       "<style scoped>\n",
       "    .dataframe tbody tr th:only-of-type {\n",
       "        vertical-align: middle;\n",
       "    }\n",
       "\n",
       "    .dataframe tbody tr th {\n",
       "        vertical-align: top;\n",
       "    }\n",
       "\n",
       "    .dataframe thead th {\n",
       "        text-align: right;\n",
       "    }\n",
       "</style>\n",
       "<table border=\"1\" class=\"dataframe\">\n",
       "  <thead>\n",
       "    <tr style=\"text-align: right;\">\n",
       "      <th></th>\n",
       "      <th>Age</th>\n",
       "      <th>Gender</th>\n",
       "      <th>Height</th>\n",
       "      <th>Weight</th>\n",
       "      <th>BMI</th>\n",
       "      <th>Waist</th>\n",
       "      <th>Hip</th>\n",
       "      <th>Waist/Hip Ratio</th>\n",
       "      <th>BodyTemperature</th>\n",
       "      <th>SpO2</th>\n",
       "      <th>BloodPressure(sys)</th>\n",
       "      <th>BloodPressure(dia)</th>\n",
       "      <th>BloodGlucose</th>\n",
       "      <th>PulseRate</th>\n",
       "      <th>BloodUricAcid</th>\n",
       "      <th>Color</th>\n",
       "    </tr>\n",
       "  </thead>\n",
       "  <tbody>\n",
       "    <tr>\n",
       "      <th>0</th>\n",
       "      <td>59</td>\n",
       "      <td>1</td>\n",
       "      <td>159.0</td>\n",
       "      <td>52.7</td>\n",
       "      <td>20.85</td>\n",
       "      <td>85.0</td>\n",
       "      <td>80</td>\n",
       "      <td>1.06</td>\n",
       "      <td>95.00</td>\n",
       "      <td>96.0</td>\n",
       "      <td>138</td>\n",
       "      <td>78</td>\n",
       "      <td>234.0</td>\n",
       "      <td>94</td>\n",
       "      <td>4.3</td>\n",
       "      <td>3</td>\n",
       "    </tr>\n",
       "    <tr>\n",
       "      <th>1</th>\n",
       "      <td>60</td>\n",
       "      <td>1</td>\n",
       "      <td>164.0</td>\n",
       "      <td>73.9</td>\n",
       "      <td>27.48</td>\n",
       "      <td>95.0</td>\n",
       "      <td>99</td>\n",
       "      <td>0.96</td>\n",
       "      <td>96.26</td>\n",
       "      <td>96.0</td>\n",
       "      <td>128</td>\n",
       "      <td>67</td>\n",
       "      <td>93.6</td>\n",
       "      <td>62</td>\n",
       "      <td>5.8</td>\n",
       "      <td>2</td>\n",
       "    </tr>\n",
       "    <tr>\n",
       "      <th>2</th>\n",
       "      <td>58</td>\n",
       "      <td>1</td>\n",
       "      <td>164.0</td>\n",
       "      <td>83.7</td>\n",
       "      <td>31.12</td>\n",
       "      <td>102.0</td>\n",
       "      <td>103</td>\n",
       "      <td>0.99</td>\n",
       "      <td>95.00</td>\n",
       "      <td>96.0</td>\n",
       "      <td>140</td>\n",
       "      <td>81</td>\n",
       "      <td>133.2</td>\n",
       "      <td>60</td>\n",
       "      <td>7.0</td>\n",
       "      <td>3</td>\n",
       "    </tr>\n",
       "    <tr>\n",
       "      <th>3</th>\n",
       "      <td>50</td>\n",
       "      <td>0</td>\n",
       "      <td>143.0</td>\n",
       "      <td>45.1</td>\n",
       "      <td>22.05</td>\n",
       "      <td>76.0</td>\n",
       "      <td>89</td>\n",
       "      <td>0.85</td>\n",
       "      <td>97.52</td>\n",
       "      <td>99.0</td>\n",
       "      <td>102</td>\n",
       "      <td>65</td>\n",
       "      <td>75.6</td>\n",
       "      <td>82</td>\n",
       "      <td>3.6</td>\n",
       "      <td>2</td>\n",
       "    </tr>\n",
       "    <tr>\n",
       "      <th>4</th>\n",
       "      <td>56</td>\n",
       "      <td>1</td>\n",
       "      <td>160.0</td>\n",
       "      <td>64.9</td>\n",
       "      <td>25.35</td>\n",
       "      <td>87.0</td>\n",
       "      <td>91</td>\n",
       "      <td>0.96</td>\n",
       "      <td>96.44</td>\n",
       "      <td>96.0</td>\n",
       "      <td>155</td>\n",
       "      <td>98</td>\n",
       "      <td>223.2</td>\n",
       "      <td>92</td>\n",
       "      <td>5.0</td>\n",
       "      <td>3</td>\n",
       "    </tr>\n",
       "  </tbody>\n",
       "</table>\n",
       "</div>"
      ],
      "text/plain": [
       "   Age   Gender  Height  Weight    BMI  Waist  Hip  Waist/Hip Ratio  \\\n",
       "0    59       1   159.0    52.7  20.85   85.0   80             1.06   \n",
       "1    60       1   164.0    73.9  27.48   95.0   99             0.96   \n",
       "2    58       1   164.0    83.7  31.12  102.0  103             0.99   \n",
       "3    50       0   143.0    45.1  22.05   76.0   89             0.85   \n",
       "4    56       1   160.0    64.9  25.35   87.0   91             0.96   \n",
       "\n",
       "   BodyTemperature  SpO2  BloodPressure(sys)  BloodPressure(dia)  \\\n",
       "0            95.00  96.0                 138                  78   \n",
       "1            96.26  96.0                 128                  67   \n",
       "2            95.00  96.0                 140                  81   \n",
       "3            97.52  99.0                 102                  65   \n",
       "4            96.44  96.0                 155                  98   \n",
       "\n",
       "   BloodGlucose  PulseRate  BloodUricAcid  Color  \n",
       "0         234.0         94            4.3      3  \n",
       "1          93.6         62            5.8      2  \n",
       "2         133.2         60            7.0      3  \n",
       "3          75.6         82            3.6      2  \n",
       "4         223.2         92            5.0      3  "
      ]
     },
     "execution_count": 13,
     "metadata": {},
     "output_type": "execute_result"
    }
   ],
   "source": [
    "# Preview of cleaned data\n",
    "df_clean.head(5)"
   ]
  },
  {
   "cell_type": "code",
   "execution_count": 14,
   "metadata": {},
   "outputs": [
    {
     "data": {
      "text/plain": [
       "(93, 286)"
      ]
     },
     "execution_count": 14,
     "metadata": {},
     "output_type": "execute_result"
    }
   ],
   "source": [
    "# shape of raw data\n",
    "df_raw.shape"
   ]
  },
  {
   "cell_type": "code",
   "execution_count": 15,
   "metadata": {},
   "outputs": [
    {
     "data": {
      "text/plain": [
       "(271, 16)"
      ]
     },
     "execution_count": 15,
     "metadata": {},
     "output_type": "execute_result"
    }
   ],
   "source": [
    "# shape of cleaned data\n",
    "df_clean.shape"
   ]
  },
  {
   "cell_type": "markdown",
   "metadata": {},
   "source": [
    "### Get Percentage of missing data in each column"
   ]
  },
  {
   "cell_type": "code",
   "execution_count": 25,
   "metadata": {},
   "outputs": [
    {
     "name": "stdout",
     "output_type": "stream",
     "text": [
      "Blood Hemoglobin Color-1                                                             83.87\n",
      "Blood Hemoglobin-1                                                                   83.87\n",
      "5-44. PHC system is a pleasant experience.                                            2.15\n",
      "5-36. I feel happy because the PHC system is used by one pre-trained nurse.           2.15\n",
      "5-37. PHC system using saves my time.                                                 2.15\n",
      "                                                                                     ...  \n",
      "5-47. I like to use PHC system..2                                                     1.08\n",
      "5-2. I feel using the PHC system increases my productivity..2                         1.08\n",
      "5-1. Using the PHC system would help me to better manage/maintain of my health..2     1.08\n",
      "5-3. I feel PHC system is useful in my daily life..2                                  1.08\n",
      "5-4 Using PHC system will enhance my life effectiveness..2                            1.08\n",
      "Length: 159, dtype: float64\n"
     ]
    }
   ],
   "source": [
    "#missing value percentage for each column in raw data\n",
    "raw_missing = df_raw.isnull().mean().round(4).mul(100).sort_values(ascending=False)\n",
    "print(raw_missing[raw_missing > 0])"
   ]
  },
  {
   "cell_type": "code",
   "execution_count": 26,
   "metadata": {},
   "outputs": [
    {
     "name": "stdout",
     "output_type": "stream",
     "text": [
      "Blood Hemoglobin Color-1                                                             83.87\n",
      "Blood Hemoglobin-1                                                                   83.87\n",
      "5-44. PHC system is a pleasant experience.                                            2.15\n",
      "5-36. I feel happy because the PHC system is used by one pre-trained nurse.           2.15\n",
      "5-37. PHC system using saves my time.                                                 2.15\n",
      "                                                                                     ...  \n",
      "5-47. I like to use PHC system..2                                                     1.08\n",
      "5-2. I feel using the PHC system increases my productivity..2                         1.08\n",
      "5-1. Using the PHC system would help me to better manage/maintain of my health..2     1.08\n",
      "5-3. I feel PHC system is useful in my daily life..2                                  1.08\n",
      "5-4 Using PHC system will enhance my life effectiveness..2                            1.08\n",
      "Length: 159, dtype: float64\n"
     ]
    }
   ],
   "source": [
    "#missing value percentage for each column in cleaned data\n",
    "cleaned_missing = df_raw.isnull().mean().round(4).mul(100).sort_values(ascending=False)\n",
    "print(cleaned_missing[cleaned_missing > 0])"
   ]
  },
  {
   "cell_type": "markdown",
   "metadata": {},
   "source": [
    "### Show unique values of each non numeric columns"
   ]
  },
  {
   "cell_type": "code",
   "execution_count": 27,
   "metadata": {},
   "outputs": [
    {
     "data": {
      "text/plain": [
       "SL                                                    int64\n",
       "Bar code Id                                           int64\n",
       "Age                                                   int64\n",
       "Gender                                               object\n",
       "Company Name                                         object\n",
       "                                                     ...   \n",
       "5-43. It is worth to receive PHC service..2         float64\n",
       "5-44. PHC system is a pleasant experience..2        float64\n",
       "5-45. I spend time to know about PHC system..2      float64\n",
       "5-46. Using PHC system causes many advantages..2    float64\n",
       "5-47. I like to use PHC system..2                   float64\n",
       "Length: 286, dtype: object"
      ]
     },
     "execution_count": 27,
     "metadata": {},
     "output_type": "execute_result"
    }
   ],
   "source": [
    "# viewing all the data types\n",
    "df_raw.dtypes"
   ]
  },
  {
   "cell_type": "code",
   "execution_count": 29,
   "metadata": {},
   "outputs": [
    {
     "data": {
      "text/plain": [
       "Age                     int64\n",
       "Gender                  int64\n",
       "Height                float64\n",
       "Weight                float64\n",
       "BMI                   float64\n",
       "Waist                 float64\n",
       "Hip                     int64\n",
       "Waist/Hip Ratio       float64\n",
       "BodyTemperature       float64\n",
       "SpO2                  float64\n",
       "BloodPressure(sys)      int64\n",
       "BloodPressure(dia)      int64\n",
       "BloodGlucose          float64\n",
       "PulseRate               int64\n",
       "BloodUricAcid         float64\n",
       "Color                   int64\n",
       "dtype: object"
      ]
     },
     "execution_count": 29,
     "metadata": {},
     "output_type": "execute_result"
    }
   ],
   "source": [
    "# viewing all the data types\n",
    "df_clean.dtypes"
   ]
  },
  {
   "cell_type": "code",
   "execution_count": 30,
   "metadata": {},
   "outputs": [
    {
     "data": {
      "text/plain": [
       "['Gender',\n",
       " 'Company Name',\n",
       " '1. What is your occupation?',\n",
       " '2. What education did you complete?',\n",
       " '3. Can you read Bangla?',\n",
       " '4. What is your marital status?',\n",
       " '5. What is your monthly family expenditure?',\n",
       " '6. Have you tried to limit any of the following things in your diet in the past 30 days? Have you tried to limit the amount of [READ ITEM] in your diet, yes or no?',\n",
       " '7. Have you gained over 10 kg weight after the age of 20?',\n",
       " '8. Have you gained or lost over 3 kg weight in the last one year?',\n",
       " '9. Do you eat dinner within 2 hours before bedtime three or more times a week?',\n",
       " '10. Do you drink sugar contained drinks (Coke, Fanta, Soda, Fruit Juice, other Sweet/Sugar contained drinks) three or more times a week?',\n",
       " '11. Do you eat fast foods such as Pizza, Hamburger, Deep Fried Foods (e.g. Singara, Samosa, Moglai Parata, etc.) three or more time a week?',\n",
       " '12. Do you skip breakfast three or more times a week?',\n",
       " '13. Do you eat faster than others in your similar age and sex?',\n",
       " '14. Do you want to improve your eating habits (less sugar, less fat, less calories, etc.) to be more healthy?',\n",
       " '15. In the past 30 days, on an average how long did you usually walk outside per day? (walking outside besides other daily works such as agricultural, farming, or cleaning).',\n",
       " '16. In the past 30 days, did you do any types of physical activities at least for 10 minutes continuously?(Multiple choices)',\n",
       " '17. Do you walk faster than other people of your same age and sex?',\n",
       " '18. Do you want to improve your physical activity (exercise) habits to be healthier?',\n",
       " '19. In the last one month, how often you could not sleep properly at night?',\n",
       " '20. In the last one month, how often you had to stop doing your usual activities (work, school or any other job) due to stress, depression, anxiety, or sadness?',\n",
       " '21. What do you do when you are stressed or depressed?',\n",
       " '22. What are the cause of your stress or depression?',\n",
       " '23. How often do you brush your teeth every day?',\n",
       " '24. Do you brush your teeth before you go to sleep at night?',\n",
       " '25. What do you usually use for your brushing?',\n",
       " '26. Have you visited any dental clinic or dentist in the last 6 months?',\n",
       " '27. Do you have pain in your teeth, jaw or any parts in your mouth? (Multiple choices)',\n",
       " '28. How many teeth have you lost?',\n",
       " '29. Do you have any vision difficulties seeing or reading with your eyes?',\n",
       " '30. Do you have any eye related diseases?',\n",
       " 'BMI Color-1',\n",
       " 'Waist Color-1',\n",
       " 'Waist/Hip Ratio Color-1',\n",
       " 'Body Temperature Color-1',\n",
       " 'SpO2 Color-1',\n",
       " 'Blood Pressure(sys) Color-1',\n",
       " 'Blood Pressure(dia) Color-1',\n",
       " 'Blood Glucose-1',\n",
       " 'Blood Glucose Color-1',\n",
       " 'Blood Hemoglobin Color-1',\n",
       " 'Urinary Glucose-1',\n",
       " 'Urinary Glucose Color-1',\n",
       " 'Urinary Protein-1',\n",
       " 'Urinary Protein Color-1',\n",
       " 'Pulse Rate Color-1',\n",
       " 'Arrhythmia-1',\n",
       " 'Arrhythmia Color-1',\n",
       " 'Blood uric acid Color-1',\n",
       " '1. Have you ever had any of following health check-up?(Multiple choice)',\n",
       " '2. How satisfied about todayâ€™s health check-up?  ',\n",
       " '3. Which health check-up services are you most interested in?(Multiple choice)',\n",
       " '4. What additional services (besides health check-up services) do you want or do you need?  (Multiple choice)',\n",
       " '5. How much will you pay for total health check-up at one time doctor visit? ',\n",
       " '6. How much will you pay for todayâ€™s health checkup (if you need to pay)?',\n",
       " '1. Do you have mobile phone?',\n",
       " '2. Do you have access to internet connection in your mobile, computer, tab etc?',\n",
       " '3. Did you use eHealth services other than PHC service before?',\n",
       " '4. Do you have any kind of illness?',\n",
       " 'BMI Color-2',\n",
       " 'Waist Color-2',\n",
       " 'Waist/Hip Ratio Color-2',\n",
       " 'Body Temperature Color-2',\n",
       " 'SpO2 Color-2',\n",
       " 'Blood Pressure(sys) Color-2',\n",
       " 'Blood Pressure(dia) Color-2',\n",
       " 'Blood Glucose Color-2',\n",
       " 'Urinary Glucose-2',\n",
       " 'Urinary Glucose Color-2',\n",
       " 'Urinary Protein-2',\n",
       " 'Urinary Protein Color-2',\n",
       " 'Pulse Rate Color-2',\n",
       " 'Arrhythmia-2',\n",
       " 'Arrhythmia Color-2',\n",
       " 'Blood uric acid Color-2',\n",
       " '1. Do you have mobile phone?.1',\n",
       " '2. Do you have access to internet connection in your mobile, computer, tab etc?.1',\n",
       " '3. Did you use eHealth services other than PHC service before?.1',\n",
       " '4. Do you have any kind of illness?.1',\n",
       " 'BMI Color',\n",
       " 'Waist Color',\n",
       " 'Waist/Hip Ratio Color',\n",
       " 'Body Temperature Color',\n",
       " 'SpO2 Color',\n",
       " 'Blood Pressure(sys) Color',\n",
       " 'Blood Pressure(dia) Color',\n",
       " 'Blood Glucose Color',\n",
       " 'Urinary Glucose',\n",
       " 'Urinary Glucose Color',\n",
       " 'Urinary Protein',\n",
       " 'Urinary Protein Color',\n",
       " 'Pulse Rate Color',\n",
       " 'Arrhythmia',\n",
       " 'Arrhythmia Color',\n",
       " 'Blood uric acid Color',\n",
       " '1. Do you have mobile phone?.2',\n",
       " '2. Do you have access to internet connection in your mobile, computer, tab etc?.2',\n",
       " '3. Did you use eHealth services other than PHC service before?.2',\n",
       " '4. Do you have any kind of illness?.2']"
      ]
     },
     "execution_count": 30,
     "metadata": {},
     "output_type": "execute_result"
    }
   ],
   "source": [
    "categorical_columns_raw = df_raw.select_dtypes(include=['object']).columns.tolist()\n",
    "categorical_columns_raw"
   ]
  },
  {
   "cell_type": "code",
   "execution_count": 36,
   "metadata": {},
   "outputs": [
    {
     "name": "stdout",
     "output_type": "stream",
     "text": [
      "No categorical data in cleaned dataset\n"
     ]
    }
   ],
   "source": [
    "categorical_columns_clean = df_clean.select_dtypes(include=['object']).columns.tolist()\n",
    "categorical_columns_clean\n",
    "print('No categorical data in cleaned dataset')"
   ]
  },
  {
   "cell_type": "markdown",
   "metadata": {},
   "source": [
    "## Getting Insights from cleaned Data"
   ]
  },
  {
   "cell_type": "code",
   "execution_count": 102,
   "metadata": {},
   "outputs": [
    {
     "data": {
      "text/plain": [
       "[Text(0, 0, '2'), Text(0, 0, '80'), Text(0, 0, '122'), Text(0, 0, '67')]"
      ]
     },
     "execution_count": 102,
     "metadata": {},
     "output_type": "execute_result"
    },
    {
     "data": {
      "image/png": "[encoded data removed]",
      "text/plain": [
       "<Figure size 432x288 with 1 Axes>"
      ]
     },
     "metadata": {},
     "output_type": "display_data"
    }
   ],
   "source": [
    "# # Health status count for each type in cleaned data\n",
    "color_labels  = ['Healthy', 'Suspicious', 'Affected', 'Emergent']\n",
    "\n",
    "ax = sns.countplot(x='Color', data=df_clean, palette={1:\"green\", 2:\"yellow\", 3:'orange', 4:'red'})\n",
    "ax.set_xticklabels(color_labels, fontsize=14)\n",
    "ax.bar_label(ax.containers[0])"
   ]
  },
  {
   "cell_type": "code",
   "execution_count": 10,
   "metadata": {},
   "outputs": [
    {
     "data": {
      "text/plain": [
       "<AxesSubplot:ylabel='Gender'>"
      ]
     },
     "execution_count": 10,
     "metadata": {},
     "output_type": "execute_result"
    },
    {
     "data": {
      "image/png": "[encoded data removed]",
      "text/plain": [
       "<Figure size 432x432 with 1 Axes>"
      ]
     },
     "metadata": {},
     "output_type": "display_data"
    }
   ],
   "source": [
    "# gender percentage count in clened data\n",
    "df.groupby(\"Gender\")[\"Gender\"].count().plot.pie(figsize=(6,6), autopct='%1.1f%%', startangle=90, fontsize=24, labels=['Female','Male'])"
   ]
  },
  {
   "cell_type": "code",
   "execution_count": 66,
   "metadata": {},
   "outputs": [
    {
     "data": {
      "text/plain": [
       "[Text(0, 0, '46'), Text(0, 0, '225')]"
      ]
     },
     "execution_count": 66,
     "metadata": {},
     "output_type": "execute_result"
    },
    {
     "data": {
      "image/png": "[encoded data removed]",
      "text/plain": [
       "<Figure size 432x288 with 1 Axes>"
      ]
     },
     "metadata": {},
     "output_type": "display_data"
    }
   ],
   "source": [
    "# Gender count for each type in Cleaned Data\n",
    "gender_labels  = ['Female', 'Male']\n",
    "\n",
    "ax = sns.countplot(x='Gender', data=df_clean)\n",
    "ax.set_xticklabels(gender_labels, fontsize=14)\n",
    "ax.bar_label(ax.containers[0])"
   ]
  },
  {
   "cell_type": "code",
   "execution_count": 40,
   "metadata": {},
   "outputs": [
    {
     "data": {
      "text/plain": [
       "[Text(0, 0, '1'),\n",
       " Text(0, 0, '1'),\n",
       " Text(0, 0, '52'),\n",
       " Text(0, 0, '67'),\n",
       " Text(0, 0, '59'),\n",
       " Text(0, 0, '90')]"
      ]
     },
     "execution_count": 40,
     "metadata": {},
     "output_type": "execute_result"
    },
    {
     "data": {
      "image/png": "[encoded data removed]",
      "text/plain": [
       "<Figure size 432x288 with 1 Axes>"
      ]
     },
     "metadata": {},
     "output_type": "display_data"
    }
   ],
   "source": [
    "# spo2 count for each type\n",
    "ax = sns.countplot(x='SpO2', data=df_clean)\n",
    "ax.bar_label(ax.containers[0])"
   ]
  },
  {
   "cell_type": "markdown",
   "metadata": {},
   "source": [
    "## Importing Data of three phases(each phase is 3 months apart)"
   ]
  },
  {
   "cell_type": "code",
   "execution_count": 100,
   "metadata": {},
   "outputs": [],
   "source": [
    "df1 = pd.read_csv('dataset/p1_cleaned_data.csv', index_col=0)\n",
    "df2 = pd.read_csv('dataset/p2_cleaned_data.csv', index_col=0)\n",
    "df3 = pd.read_csv('dataset/p3_cleaned_data.csv', index_col=0)"
   ]
  },
  {
   "cell_type": "code",
   "execution_count": 98,
   "metadata": {},
   "outputs": [
    {
     "name": "stdout",
     "output_type": "stream",
     "text": [
      "No healthy or suspacious patients\n"
     ]
    },
    {
     "data": {
      "image/png": "[encoded data removed]",
      "text/plain": [
       "<Figure size 432x288 with 1 Axes>"
      ]
     },
     "metadata": {},
     "output_type": "display_data"
    }
   ],
   "source": [
    "# Health status count for each type in Phase 1\n",
    "color_labels  = ['Affected', 'Emergent']\n",
    "ax = sns.countplot(x='Color', data=df1)\n",
    "ax.set_xticklabels(color_labels, fontsize=14)\n",
    "ax.bar_label(ax.containers[0])\n",
    "print('No healthy or suspacious patients')"
   ]
  },
  {
   "cell_type": "code",
   "execution_count": 97,
   "metadata": {},
   "outputs": [
    {
     "data": {
      "text/plain": [
       "[Text(0, 0, '1'), Text(0, 0, '20'), Text(0, 0, '43'), Text(0, 0, '29')]"
      ]
     },
     "execution_count": 97,
     "metadata": {},
     "output_type": "execute_result"
    },
    {
     "data": {
      "image/png": "[encoded data removed]",
      "text/plain": [
       "<Figure size 432x288 with 1 Axes>"
      ]
     },
     "metadata": {},
     "output_type": "display_data"
    }
   ],
   "source": [
    "# Health status count for each type in Phase 2\n",
    "color_labels  = ['Healthy', 'Suspicious', 'Affected', 'Emergent']\n",
    "ax = sns.countplot(x='Color', data=df2)\n",
    "ax.set_xticklabels(color_labels, fontsize=14)\n",
    "ax.bar_label(ax.containers[0])"
   ]
  },
  {
   "cell_type": "code",
   "execution_count": 96,
   "metadata": {},
   "outputs": [
    {
     "data": {
      "text/plain": [
       "[Text(0, 0, '2'), Text(0, 0, '38'), Text(0, 0, '41'), Text(0, 0, '12')]"
      ]
     },
     "execution_count": 96,
     "metadata": {},
     "output_type": "execute_result"
    },
    {
     "data": {
      "image/png": "[encoded data removed]",
      "text/plain": [
       "<Figure size 432x288 with 1 Axes>"
      ]
     },
     "metadata": {},
     "output_type": "display_data"
    }
   ],
   "source": [
    "# Health status count for each type in Phase 3\n",
    "color_labels  = ['Healthy', 'Suspicious', 'Affected', 'Emergent']\n",
    "ax = sns.countplot(x='Color', data=df3)\n",
    "ax.set_xticklabels(color_labels, fontsize=14)\n",
    "ax.bar_label(ax.containers[0])"
   ]
  },
  {
   "cell_type": "code",
   "execution_count": 95,
   "metadata": {},
   "outputs": [
    {
     "data": {
      "image/png": "[encoded data removed]",
      "text/plain": [
       "<Figure size 576x432 with 1 Axes>"
      ]
     },
     "metadata": {},
     "output_type": "display_data"
    }
   ],
   "source": [
    "# Age groups available in the data set in percentage\n",
    "out = pd.cut(df['Age '], bins=[0, 18, 44, 64, 84, 120], labels=['0-18', '18-44', '44-64', '64-84', '84+'],include_lowest=False)\n",
    "out_norm = out.value_counts(sort=False, normalize=True).mul(100)\n",
    "ax = out_norm.plot.bar(rot=0, color=\"b\", figsize=(8,6))\n",
    "ax.bar_label(ax.containers[0])\n",
    "plt.ylabel(\"percentage\")\n",
    "plt.xlabel(\"age group\")\n",
    "\n",
    "plt.show()"
   ]
  },
  {
   "cell_type": "code",
   "execution_count": 93,
   "metadata": {},
   "outputs": [
    {
     "data": {
      "image/png": "[encoded data removed]",
      "text/plain": [
       "<Figure size 576x432 with 1 Axes>"
      ]
     },
     "metadata": {},
     "output_type": "display_data"
    }
   ],
   "source": [
    "# Age groups member count in dataset\n",
    "out = pd.cut(df['Age '], bins=[0, 18, 44, 64, 84, 120], labels=['0-18', '18-44', '44-64', '64-84', '84+'],include_lowest=False)\n",
    "ax = out.value_counts(sort=False).plot.bar(rot=0, color=\"b\", figsize=(8,6))\n",
    "ax.bar_label(ax.containers[0])\n",
    "plt.show()"
   ]
  },
  {
   "cell_type": "code",
   "execution_count": 110,
   "metadata": {},
   "outputs": [
    {
     "data": {
      "text/html": [
       "<div>\n",
       "<style scoped>\n",
       "    .dataframe tbody tr th:only-of-type {\n",
       "        vertical-align: middle;\n",
       "    }\n",
       "\n",
       "    .dataframe tbody tr th {\n",
       "        vertical-align: top;\n",
       "    }\n",
       "\n",
       "    .dataframe thead th {\n",
       "        text-align: right;\n",
       "    }\n",
       "</style>\n",
       "<table border=\"1\" class=\"dataframe\">\n",
       "  <thead>\n",
       "    <tr style=\"text-align: right;\">\n",
       "      <th></th>\n",
       "      <th>Age</th>\n",
       "      <th>Gender</th>\n",
       "      <th>Height</th>\n",
       "      <th>Weight</th>\n",
       "      <th>BMI</th>\n",
       "      <th>Waist</th>\n",
       "      <th>Hip</th>\n",
       "      <th>Waist/Hip Ratio</th>\n",
       "      <th>BodyTemperature</th>\n",
       "      <th>SpO2</th>\n",
       "      <th>BloodPressure(sys)</th>\n",
       "      <th>BloodPressure(dia)</th>\n",
       "      <th>BloodGlucose</th>\n",
       "      <th>PulseRate</th>\n",
       "      <th>BloodUricAcid</th>\n",
       "    </tr>\n",
       "  </thead>\n",
       "  <tbody>\n",
       "    <tr>\n",
       "      <th>0</th>\n",
       "      <td>59</td>\n",
       "      <td>1</td>\n",
       "      <td>159.0</td>\n",
       "      <td>52.7</td>\n",
       "      <td>20.85</td>\n",
       "      <td>85.0</td>\n",
       "      <td>80</td>\n",
       "      <td>1.06</td>\n",
       "      <td>95.00</td>\n",
       "      <td>96.0</td>\n",
       "      <td>138</td>\n",
       "      <td>78</td>\n",
       "      <td>234.0</td>\n",
       "      <td>94</td>\n",
       "      <td>4.3</td>\n",
       "    </tr>\n",
       "    <tr>\n",
       "      <th>1</th>\n",
       "      <td>60</td>\n",
       "      <td>1</td>\n",
       "      <td>164.0</td>\n",
       "      <td>73.9</td>\n",
       "      <td>27.48</td>\n",
       "      <td>95.0</td>\n",
       "      <td>99</td>\n",
       "      <td>0.96</td>\n",
       "      <td>96.26</td>\n",
       "      <td>96.0</td>\n",
       "      <td>128</td>\n",
       "      <td>67</td>\n",
       "      <td>93.6</td>\n",
       "      <td>62</td>\n",
       "      <td>5.8</td>\n",
       "    </tr>\n",
       "    <tr>\n",
       "      <th>2</th>\n",
       "      <td>58</td>\n",
       "      <td>1</td>\n",
       "      <td>164.0</td>\n",
       "      <td>83.7</td>\n",
       "      <td>31.12</td>\n",
       "      <td>102.0</td>\n",
       "      <td>103</td>\n",
       "      <td>0.99</td>\n",
       "      <td>95.00</td>\n",
       "      <td>96.0</td>\n",
       "      <td>140</td>\n",
       "      <td>81</td>\n",
       "      <td>133.2</td>\n",
       "      <td>60</td>\n",
       "      <td>7.0</td>\n",
       "    </tr>\n",
       "    <tr>\n",
       "      <th>3</th>\n",
       "      <td>50</td>\n",
       "      <td>0</td>\n",
       "      <td>143.0</td>\n",
       "      <td>45.1</td>\n",
       "      <td>22.05</td>\n",
       "      <td>76.0</td>\n",
       "      <td>89</td>\n",
       "      <td>0.85</td>\n",
       "      <td>97.52</td>\n",
       "      <td>99.0</td>\n",
       "      <td>102</td>\n",
       "      <td>65</td>\n",
       "      <td>75.6</td>\n",
       "      <td>82</td>\n",
       "      <td>3.6</td>\n",
       "    </tr>\n",
       "    <tr>\n",
       "      <th>4</th>\n",
       "      <td>56</td>\n",
       "      <td>1</td>\n",
       "      <td>160.0</td>\n",
       "      <td>64.9</td>\n",
       "      <td>25.35</td>\n",
       "      <td>87.0</td>\n",
       "      <td>91</td>\n",
       "      <td>0.96</td>\n",
       "      <td>96.44</td>\n",
       "      <td>96.0</td>\n",
       "      <td>155</td>\n",
       "      <td>98</td>\n",
       "      <td>223.2</td>\n",
       "      <td>92</td>\n",
       "      <td>5.0</td>\n",
       "    </tr>\n",
       "  </tbody>\n",
       "</table>\n",
       "</div>"
      ],
      "text/plain": [
       "   Age   Gender  Height  Weight    BMI  Waist  Hip  Waist/Hip Ratio  \\\n",
       "0    59       1   159.0    52.7  20.85   85.0   80             1.06   \n",
       "1    60       1   164.0    73.9  27.48   95.0   99             0.96   \n",
       "2    58       1   164.0    83.7  31.12  102.0  103             0.99   \n",
       "3    50       0   143.0    45.1  22.05   76.0   89             0.85   \n",
       "4    56       1   160.0    64.9  25.35   87.0   91             0.96   \n",
       "\n",
       "   BodyTemperature  SpO2  BloodPressure(sys)  BloodPressure(dia)  \\\n",
       "0            95.00  96.0                 138                  78   \n",
       "1            96.26  96.0                 128                  67   \n",
       "2            95.00  96.0                 140                  81   \n",
       "3            97.52  99.0                 102                  65   \n",
       "4            96.44  96.0                 155                  98   \n",
       "\n",
       "   BloodGlucose  PulseRate  BloodUricAcid  \n",
       "0         234.0         94            4.3  \n",
       "1          93.6         62            5.8  \n",
       "2         133.2         60            7.0  \n",
       "3          75.6         82            3.6  \n",
       "4         223.2         92            5.0  "
      ]
     },
     "execution_count": 110,
     "metadata": {},
     "output_type": "execute_result"
    }
   ],
   "source": [
    "df = df_clean.dropna()\n",
    "features = df.drop(['Color'], axis=1)\n",
    "\n",
    "label = df.Color\n",
    "features.head()"
   ]
  },
  {
   "cell_type": "code",
   "execution_count": 111,
   "metadata": {},
   "outputs": [
    {
     "data": {
      "text/plain": [
       "0    3\n",
       "1    2\n",
       "2    3\n",
       "3    2\n",
       "4    3\n",
       "Name: Color, dtype: int64"
      ]
     },
     "execution_count": 111,
     "metadata": {},
     "output_type": "execute_result"
    }
   ],
   "source": [
    "label.head()"
   ]
  },
  {
   "cell_type": "code",
   "execution_count": 106,
   "metadata": {},
   "outputs": [
    {
     "name": "stdout",
     "output_type": "stream",
     "text": [
      "(270, 15) (216, 15) (54, 15)\n"
     ]
    }
   ],
   "source": [
    "from sklearn.model_selection import train_test_split\n",
    "# seperating traing and test data\n",
    "data_train, data_test, label_train, label_test = train_test_split(features, label, test_size=0.2, random_state=2)\n",
    "\n",
    "print(data.shape, data_train.shape, data_test.shape)"
   ]
  },
  {
   "cell_type": "code",
   "execution_count": 116,
   "metadata": {},
   "outputs": [
    {
     "data": {
      "image/png": "[encoded data removed]",
      "text/plain": [
       "<Figure size 576x432 with 1 Axes>"
      ]
     },
     "metadata": {},
     "output_type": "display_data"
    }
   ],
   "source": [
    "# Age groups available in the data set in percentage\n",
    "out = pd.cut(df['Age '], bins=[0, 18, 44, 64, 84, 120], labels=['0-18', '18-44', '44-64', '64-84', '84+'],include_lowest=False)\n",
    "out_norm = out.value_counts(sort=False, normalize=True).mul(100)\n",
    "ax = out_norm.plot.pie(rot=0, figsize=(8,6), autopct='%1.1f%%', startangle=90, fontsize=24)\n",
    "plt.ylabel(\"percentage\")\n",
    "plt.xlabel(\"age group\")\n",
    "\n",
    "plt.show()"
   ]
  },
  {
   "cell_type": "code",
   "execution_count": null,
   "metadata": {},
   "outputs": [],
   "source": []
  }
 ],
 "metadata": {
  "kernelspec": {
   "display_name": "Python 3",
   "language": "python",
   "name": "python3"
  },
  "language_info": {
   "codemirror_mode": {
    "name": "ipython",
    "version": 3
   },
   "file_extension": ".py",
   "mimetype": "text/x-python",
   "name": "python",
   "nbconvert_exporter": "python",
   "pygments_lexer": "ipython3",
   "version": "3.8.5"
  }
 },
 "nbformat": 4,
 "nbformat_minor": 4
}
